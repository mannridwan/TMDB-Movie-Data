{
 "cells": [
  {
   "cell_type": "markdown",
   "metadata": {},
   "source": [
    "> **Tip**: Welcome to the Investigate a Dataset project! You will find tips in quoted sections like this to help organize your approach to your investigation. Once you complete this project, remove these **Tip** sections from your report before submission. First things first, you might want to double-click this Markdown cell and change the title so that it reflects your dataset and investigation.\n",
    "\n",
    "# Project: Investigate a Dataset - [Dataset-name]\n",
    "\n",
    "## Table of Contents\n",
    "<ul>\n",
    "<li><a href=\"#intro\">Introduction</a></li>\n",
    "<li><a href=\"#wrangling\">Data Wrangling</a></li>\n",
    "<li><a href=\"#eda\">Exploratory Data Analysis</a></li>\n",
    "<li><a href=\"#conclusions\">Conclusions</a></li>\n",
    "</ul>"
   ]
  },
  {
   "cell_type": "markdown",
   "metadata": {},
   "source": [
    "<a id='intro'></a>\n",
    "## Introduction\n",
    "\n",
    "### Dataset Description \n",
    "\n",
    "The dataset chosen for this project is titled \"TMDB Movie Data\" - a cleaned dataset originally sourced from [link](https://kaggle.com) - and it is provided by the examiner via [link](https://d17h27t6h515a5.cloudfront.net/topher/2017/October/59dd1c4c_tmdb-movies/tmdb-movies.csv). The dataset contains information about movies released between 1960 to 2015 from the The Movie database. The dataset contains 10866 rows and 21 columns. A short description of the columns found in the dataset is given below:\n",
    "\n",
    "     1) id: this is unique number for each movie in the dataset\n",
    "\n",
    "     2) imdb_id: this is unique id given to each movies by IMDB\n",
    "\n",
    "     3) popularity: this is a numerical rating of the movies' popularity\n",
    "\n",
    "     4) budget: this is amount spent to produce each movies as at the time of production\n",
    "\n",
    "     5) revenue: this is the income made from the movies\n",
    "\n",
    "     6) original_title: this is the unique title of the each movie\n",
    "\n",
    "     7) cast: this is a preview of major actors for each movie.\n",
    "\n",
    "     8) homepage: this is the website where more informations about each movie can be gotten\n",
    "\n",
    "     9) director: this is the list of the directors for each movie\n",
    "\n",
    "     10) tagline: this is the list of catchy phrases that can be associated with each movie\n",
    "\n",
    "     11) keywords: this is a list of keywords you can use to search for the movie on an SEO engine\n",
    "\n",
    "     12) overview: this is the list of short description about the each movies. it is otherwise known as synopsis\n",
    "\n",
    "     13) runtime: this is the list of the number of mins or hours each movie plays for i.e number of hours or minutes it takes to complete each movie\n",
    "\n",
    "     14) genre: this is the list of the genre or genres associated with each movie\n",
    "\n",
    "     15) production_companies: this is the list of the company that produced each movie\n",
    "\n",
    "     16) release_date: this is the list of the date each movie was released to the public for viewing\n",
    "\n",
    "     17) vote_count: this is the list of counts of the number of people who rated the movie on IMDB\n",
    "\n",
    "     18) vote_average: this is the list of average rating of each movies\n",
    "\n",
    "     19) release_year: this is the list of the year each movie was released for public viewership\n",
    "\n",
    "     20) budget_adj: this is the inflation adjusted budget for each movie to show us the time value of the money spent as at the time of production i.e. what the money spent in let's say 1996, will worth in 2022\n",
    "\n",
    "     21) revenue_adj: this is the inflaation adjuested income for each movie showing us the worth of the income realized in our time\n",
    "\n",
    "\n",
    "### Question(s) for Analysis\n",
    "\n",
    "The questions for analysis are divided into two groups -the first group is top ten movies and the second group is top release years.\n",
    "\n",
    "\n",
    "> Group 1 Questions:\n",
    "\n",
    "      1) In terms of actual value, what are the top 10 movies with the highest production budget?\n",
    "\n",
    "      2) In terms of inflation adjusted vlaue, what are the top 10 movies with highest production budget?\n",
    "\n",
    "      3) In terms of actual value, what are the top 10 highest gross earning movies?\n",
    "\n",
    "      4) In terms of inflation adjusted value, what are the top 10 highest gross earning movies?\n",
    "\n",
    "      5) In terms of actual value, what are the top 10 most profitable movies?\n",
    "\n",
    "      6) In terms of inflation adjusted value, what are the top 10 most profitable movies?\n",
    "\n",
    "      7) What are the top 10 most popular movies in the dataset?\n",
    "\n",
    "\n",
    "> Group 2 Questions:\n",
    "\n",
    "      1) In terms of actual value, what release year witnessed the movies released with the highest profit?\n",
    "    \n",
    "      2) In terms of inflation adjusted value, what release year witnessed the movies released with the highest profit?\n",
    "    \n",
    "      3) In terms of actual value, what release year witnessed the movies released with the highest producction budget?\n",
    "    \n",
    "      4) In terms of inflation adjusted value, what release year witnessed the movies released with the highest producction budget?\n",
    "    \n",
    "     5) In terms of actual value, what release year witnessed the movies released with the highest revenue?\n",
    "    \n",
    "     6) In terms of inflation adjusted value, what release year witnessed the movies released with the highest revenue?\n",
    "    \n",
    "     7) What released year were the most movie released?"
   ]
  },
  {
   "cell_type": "markdown",
   "metadata": {},
   "source": [
    "# IMPORTING ALL THE PACKAGES NEEDED FOR ANALYSIS"
   ]
  },
  {
   "cell_type": "code",
   "execution_count": 1,
   "metadata": {},
   "outputs": [],
   "source": [
    "# Use this cell to set up import statements for all of the packages that you\n",
    "#   plan to use.\n",
    "\n",
    "# Remember to include a 'magic word' so that your visualizations are plotted\n",
    "#   inline with the notebook. See this page for more:\n",
    "#   http://ipython.readthedocs.io/en/stable/interactive/magics.html\n",
    "import numpy as np\n",
    "import pandas as pd\n",
    "import matplotlib.pyplot as plt\n",
    "import seaborn as sns\n",
    "import re\n",
    "% matplotlib inline"
   ]
  },
  {
   "cell_type": "markdown",
   "metadata": {},
   "source": [
    "> ***Observation: Numpy, Pandas, Matplotlib.pyplot,seaborn and re were succesfully imported***"
   ]
  },
  {
   "cell_type": "code",
   "execution_count": 3,
   "metadata": {},
   "outputs": [
    {
     "name": "stdout",
     "output_type": "stream",
     "text": [
      "Collecting pandas\n",
      "\u001b[?25l  Downloading https://files.pythonhosted.org/packages/c3/e2/00cacecafbab071c787019f00ad84ca3185952f6bb9bca9550ed83870d4d/pandas-1.1.5-cp36-cp36m-manylinux1_x86_64.whl (9.5MB)\n",
      "\u001b[K    100% |████████████████████████████████| 9.5MB 3.8MB/s eta 0:00:01    74% |███████████████████████▉        | 7.1MB 28.5MB/s eta 0:00:01\n",
      "\u001b[?25hCollecting 1.4.1\n",
      "\u001b[31m  Could not find a version that satisfies the requirement 1.4.1 (from versions: )\u001b[0m\n",
      "\u001b[31mNo matching distribution found for 1.4.1\u001b[0m\n"
     ]
    }
   ],
   "source": [
    "! pip install --upgrade pandas 0.25.0"
   ]
  },
  {
   "cell_type": "markdown",
   "metadata": {},
   "source": [
    "<a id='wrangling'></a>\n",
    "## Data Wrangling\n",
    "\n",
    "> **Tip**: In this section of the report, you will load in the data, check for cleanliness, and then trim and clean your dataset for analysis. Make sure that you **document your data cleaning steps in mark-down cells precisely and justify your cleaning decisions.**\n",
    "\n",
    "\n",
    "### General Properties\n",
    "> **Tip**: You should _not_ perform too many operations in each cell. Create cells freely to explore your data. One option that you can take with this project is to do a lot of explorations in an initial notebook. These don't have to be organized, but make sure you use enough comments to understand the purpose of each code cell. Then, after you're done with your analysis, create a duplicate notebook where you will trim the excess and organize your steps so that you have a flowing, cohesive report."
   ]
  },
  {
   "cell_type": "markdown",
   "metadata": {},
   "source": [
    "## IMPORTING THE DATASET TO BE ANALYSED"
   ]
  },
  {
   "cell_type": "code",
   "execution_count": 2,
   "metadata": {},
   "outputs": [
    {
     "data": {
      "text/html": [
       "<div>\n",
       "<style scoped>\n",
       "    .dataframe tbody tr th:only-of-type {\n",
       "        vertical-align: middle;\n",
       "    }\n",
       "\n",
       "    .dataframe tbody tr th {\n",
       "        vertical-align: top;\n",
       "    }\n",
       "\n",
       "    .dataframe thead th {\n",
       "        text-align: right;\n",
       "    }\n",
       "</style>\n",
       "<table border=\"1\" class=\"dataframe\">\n",
       "  <thead>\n",
       "    <tr style=\"text-align: right;\">\n",
       "      <th></th>\n",
       "      <th>id</th>\n",
       "      <th>imdb_id</th>\n",
       "      <th>popularity</th>\n",
       "      <th>budget</th>\n",
       "      <th>revenue</th>\n",
       "      <th>original_title</th>\n",
       "      <th>cast</th>\n",
       "      <th>homepage</th>\n",
       "      <th>director</th>\n",
       "      <th>tagline</th>\n",
       "      <th>...</th>\n",
       "      <th>overview</th>\n",
       "      <th>runtime</th>\n",
       "      <th>genres</th>\n",
       "      <th>production_companies</th>\n",
       "      <th>release_date</th>\n",
       "      <th>vote_count</th>\n",
       "      <th>vote_average</th>\n",
       "      <th>release_year</th>\n",
       "      <th>budget_adj</th>\n",
       "      <th>revenue_adj</th>\n",
       "    </tr>\n",
       "  </thead>\n",
       "  <tbody>\n",
       "    <tr>\n",
       "      <th>0</th>\n",
       "      <td>135397</td>\n",
       "      <td>tt0369610</td>\n",
       "      <td>32.985763</td>\n",
       "      <td>150000000</td>\n",
       "      <td>1513528810</td>\n",
       "      <td>Jurassic World</td>\n",
       "      <td>Chris Pratt|Bryce Dallas Howard|Irrfan Khan|Vi...</td>\n",
       "      <td>http://www.jurassicworld.com/</td>\n",
       "      <td>Colin Trevorrow</td>\n",
       "      <td>The park is open.</td>\n",
       "      <td>...</td>\n",
       "      <td>Twenty-two years after the events of Jurassic ...</td>\n",
       "      <td>124</td>\n",
       "      <td>Action|Adventure|Science Fiction|Thriller</td>\n",
       "      <td>Universal Studios|Amblin Entertainment|Legenda...</td>\n",
       "      <td>6/9/15</td>\n",
       "      <td>5562</td>\n",
       "      <td>6.5</td>\n",
       "      <td>2015</td>\n",
       "      <td>1.379999e+08</td>\n",
       "      <td>1.392446e+09</td>\n",
       "    </tr>\n",
       "    <tr>\n",
       "      <th>1</th>\n",
       "      <td>76341</td>\n",
       "      <td>tt1392190</td>\n",
       "      <td>28.419936</td>\n",
       "      <td>150000000</td>\n",
       "      <td>378436354</td>\n",
       "      <td>Mad Max: Fury Road</td>\n",
       "      <td>Tom Hardy|Charlize Theron|Hugh Keays-Byrne|Nic...</td>\n",
       "      <td>http://www.madmaxmovie.com/</td>\n",
       "      <td>George Miller</td>\n",
       "      <td>What a Lovely Day.</td>\n",
       "      <td>...</td>\n",
       "      <td>An apocalyptic story set in the furthest reach...</td>\n",
       "      <td>120</td>\n",
       "      <td>Action|Adventure|Science Fiction|Thriller</td>\n",
       "      <td>Village Roadshow Pictures|Kennedy Miller Produ...</td>\n",
       "      <td>5/13/15</td>\n",
       "      <td>6185</td>\n",
       "      <td>7.1</td>\n",
       "      <td>2015</td>\n",
       "      <td>1.379999e+08</td>\n",
       "      <td>3.481613e+08</td>\n",
       "    </tr>\n",
       "    <tr>\n",
       "      <th>2</th>\n",
       "      <td>262500</td>\n",
       "      <td>tt2908446</td>\n",
       "      <td>13.112507</td>\n",
       "      <td>110000000</td>\n",
       "      <td>295238201</td>\n",
       "      <td>Insurgent</td>\n",
       "      <td>Shailene Woodley|Theo James|Kate Winslet|Ansel...</td>\n",
       "      <td>http://www.thedivergentseries.movie/#insurgent</td>\n",
       "      <td>Robert Schwentke</td>\n",
       "      <td>One Choice Can Destroy You</td>\n",
       "      <td>...</td>\n",
       "      <td>Beatrice Prior must confront her inner demons ...</td>\n",
       "      <td>119</td>\n",
       "      <td>Adventure|Science Fiction|Thriller</td>\n",
       "      <td>Summit Entertainment|Mandeville Films|Red Wago...</td>\n",
       "      <td>3/18/15</td>\n",
       "      <td>2480</td>\n",
       "      <td>6.3</td>\n",
       "      <td>2015</td>\n",
       "      <td>1.012000e+08</td>\n",
       "      <td>2.716190e+08</td>\n",
       "    </tr>\n",
       "    <tr>\n",
       "      <th>3</th>\n",
       "      <td>140607</td>\n",
       "      <td>tt2488496</td>\n",
       "      <td>11.173104</td>\n",
       "      <td>200000000</td>\n",
       "      <td>2068178225</td>\n",
       "      <td>Star Wars: The Force Awakens</td>\n",
       "      <td>Harrison Ford|Mark Hamill|Carrie Fisher|Adam D...</td>\n",
       "      <td>http://www.starwars.com/films/star-wars-episod...</td>\n",
       "      <td>J.J. Abrams</td>\n",
       "      <td>Every generation has a story.</td>\n",
       "      <td>...</td>\n",
       "      <td>Thirty years after defeating the Galactic Empi...</td>\n",
       "      <td>136</td>\n",
       "      <td>Action|Adventure|Science Fiction|Fantasy</td>\n",
       "      <td>Lucasfilm|Truenorth Productions|Bad Robot</td>\n",
       "      <td>12/15/15</td>\n",
       "      <td>5292</td>\n",
       "      <td>7.5</td>\n",
       "      <td>2015</td>\n",
       "      <td>1.839999e+08</td>\n",
       "      <td>1.902723e+09</td>\n",
       "    </tr>\n",
       "    <tr>\n",
       "      <th>4</th>\n",
       "      <td>168259</td>\n",
       "      <td>tt2820852</td>\n",
       "      <td>9.335014</td>\n",
       "      <td>190000000</td>\n",
       "      <td>1506249360</td>\n",
       "      <td>Furious 7</td>\n",
       "      <td>Vin Diesel|Paul Walker|Jason Statham|Michelle ...</td>\n",
       "      <td>http://www.furious7.com/</td>\n",
       "      <td>James Wan</td>\n",
       "      <td>Vengeance Hits Home</td>\n",
       "      <td>...</td>\n",
       "      <td>Deckard Shaw seeks revenge against Dominic Tor...</td>\n",
       "      <td>137</td>\n",
       "      <td>Action|Crime|Thriller</td>\n",
       "      <td>Universal Pictures|Original Film|Media Rights ...</td>\n",
       "      <td>4/1/15</td>\n",
       "      <td>2947</td>\n",
       "      <td>7.3</td>\n",
       "      <td>2015</td>\n",
       "      <td>1.747999e+08</td>\n",
       "      <td>1.385749e+09</td>\n",
       "    </tr>\n",
       "  </tbody>\n",
       "</table>\n",
       "<p>5 rows × 21 columns</p>\n",
       "</div>"
      ],
      "text/plain": [
       "       id    imdb_id  popularity     budget     revenue  \\\n",
       "0  135397  tt0369610   32.985763  150000000  1513528810   \n",
       "1   76341  tt1392190   28.419936  150000000   378436354   \n",
       "2  262500  tt2908446   13.112507  110000000   295238201   \n",
       "3  140607  tt2488496   11.173104  200000000  2068178225   \n",
       "4  168259  tt2820852    9.335014  190000000  1506249360   \n",
       "\n",
       "                 original_title  \\\n",
       "0                Jurassic World   \n",
       "1            Mad Max: Fury Road   \n",
       "2                     Insurgent   \n",
       "3  Star Wars: The Force Awakens   \n",
       "4                     Furious 7   \n",
       "\n",
       "                                                cast  \\\n",
       "0  Chris Pratt|Bryce Dallas Howard|Irrfan Khan|Vi...   \n",
       "1  Tom Hardy|Charlize Theron|Hugh Keays-Byrne|Nic...   \n",
       "2  Shailene Woodley|Theo James|Kate Winslet|Ansel...   \n",
       "3  Harrison Ford|Mark Hamill|Carrie Fisher|Adam D...   \n",
       "4  Vin Diesel|Paul Walker|Jason Statham|Michelle ...   \n",
       "\n",
       "                                            homepage          director  \\\n",
       "0                      http://www.jurassicworld.com/   Colin Trevorrow   \n",
       "1                        http://www.madmaxmovie.com/     George Miller   \n",
       "2     http://www.thedivergentseries.movie/#insurgent  Robert Schwentke   \n",
       "3  http://www.starwars.com/films/star-wars-episod...       J.J. Abrams   \n",
       "4                           http://www.furious7.com/         James Wan   \n",
       "\n",
       "                         tagline      ...       \\\n",
       "0              The park is open.      ...        \n",
       "1             What a Lovely Day.      ...        \n",
       "2     One Choice Can Destroy You      ...        \n",
       "3  Every generation has a story.      ...        \n",
       "4            Vengeance Hits Home      ...        \n",
       "\n",
       "                                            overview runtime  \\\n",
       "0  Twenty-two years after the events of Jurassic ...     124   \n",
       "1  An apocalyptic story set in the furthest reach...     120   \n",
       "2  Beatrice Prior must confront her inner demons ...     119   \n",
       "3  Thirty years after defeating the Galactic Empi...     136   \n",
       "4  Deckard Shaw seeks revenge against Dominic Tor...     137   \n",
       "\n",
       "                                      genres  \\\n",
       "0  Action|Adventure|Science Fiction|Thriller   \n",
       "1  Action|Adventure|Science Fiction|Thriller   \n",
       "2         Adventure|Science Fiction|Thriller   \n",
       "3   Action|Adventure|Science Fiction|Fantasy   \n",
       "4                      Action|Crime|Thriller   \n",
       "\n",
       "                                production_companies release_date vote_count  \\\n",
       "0  Universal Studios|Amblin Entertainment|Legenda...       6/9/15       5562   \n",
       "1  Village Roadshow Pictures|Kennedy Miller Produ...      5/13/15       6185   \n",
       "2  Summit Entertainment|Mandeville Films|Red Wago...      3/18/15       2480   \n",
       "3          Lucasfilm|Truenorth Productions|Bad Robot     12/15/15       5292   \n",
       "4  Universal Pictures|Original Film|Media Rights ...       4/1/15       2947   \n",
       "\n",
       "   vote_average  release_year    budget_adj   revenue_adj  \n",
       "0           6.5          2015  1.379999e+08  1.392446e+09  \n",
       "1           7.1          2015  1.379999e+08  3.481613e+08  \n",
       "2           6.3          2015  1.012000e+08  2.716190e+08  \n",
       "3           7.5          2015  1.839999e+08  1.902723e+09  \n",
       "4           7.3          2015  1.747999e+08  1.385749e+09  \n",
       "\n",
       "[5 rows x 21 columns]"
      ]
     },
     "execution_count": 2,
     "metadata": {},
     "output_type": "execute_result"
    }
   ],
   "source": [
    "# Load your data and print out a few lines. Perform operations to inspect data\n",
    "#   types and look for instances of missing or possibly errant data.\n",
    "df = pd.read_csv('tmdb-movies.csv', sep = ',')\n",
    "df.head()"
   ]
  },
  {
   "cell_type": "markdown",
   "metadata": {},
   "source": [
    "> ***Observation: Dataset was succesfully imported and the head function was used to preview the data***"
   ]
  },
  {
   "cell_type": "code",
   "execution_count": 3,
   "metadata": {},
   "outputs": [
    {
     "name": "stdout",
     "output_type": "stream",
     "text": [
      "<class 'pandas.core.frame.DataFrame'>\n",
      "RangeIndex: 10866 entries, 0 to 10865\n",
      "Data columns (total 21 columns):\n",
      "id                      10866 non-null int64\n",
      "imdb_id                 10856 non-null object\n",
      "popularity              10866 non-null float64\n",
      "budget                  10866 non-null int64\n",
      "revenue                 10866 non-null int64\n",
      "original_title          10866 non-null object\n",
      "cast                    10790 non-null object\n",
      "homepage                2936 non-null object\n",
      "director                10822 non-null object\n",
      "tagline                 8042 non-null object\n",
      "keywords                9373 non-null object\n",
      "overview                10862 non-null object\n",
      "runtime                 10866 non-null int64\n",
      "genres                  10843 non-null object\n",
      "production_companies    9836 non-null object\n",
      "release_date            10866 non-null object\n",
      "vote_count              10866 non-null int64\n",
      "vote_average            10866 non-null float64\n",
      "release_year            10866 non-null int64\n",
      "budget_adj              10866 non-null float64\n",
      "revenue_adj             10866 non-null float64\n",
      "dtypes: float64(4), int64(6), object(11)\n",
      "memory usage: 1.7+ MB\n"
     ]
    }
   ],
   "source": [
    "df.info()"
   ]
  },
  {
   "cell_type": "markdown",
   "metadata": {},
   "source": [
    "> ***Observation: df.info() ran successfully and showed us the properties of each column specifying the total non-null rows in each columns and their data types too***"
   ]
  },
  {
   "cell_type": "code",
   "execution_count": 4,
   "metadata": {},
   "outputs": [
    {
     "data": {
      "text/plain": [
       "(10866, 21)"
      ]
     },
     "execution_count": 4,
     "metadata": {},
     "output_type": "execute_result"
    }
   ],
   "source": [
    "df.shape"
   ]
  },
  {
   "cell_type": "markdown",
   "metadata": {},
   "source": [
    "> ***Observation: df.shape ran succesfully returning the numberof rows of the dataset as 10866 and number of columns of the dataset as 21***"
   ]
  },
  {
   "cell_type": "code",
   "execution_count": 5,
   "metadata": {},
   "outputs": [
    {
     "data": {
      "text/plain": [
       "id                        int64\n",
       "imdb_id                  object\n",
       "popularity              float64\n",
       "budget                    int64\n",
       "revenue                   int64\n",
       "original_title           object\n",
       "cast                     object\n",
       "homepage                 object\n",
       "director                 object\n",
       "tagline                  object\n",
       "keywords                 object\n",
       "overview                 object\n",
       "runtime                   int64\n",
       "genres                   object\n",
       "production_companies     object\n",
       "release_date             object\n",
       "vote_count                int64\n",
       "vote_average            float64\n",
       "release_year              int64\n",
       "budget_adj              float64\n",
       "revenue_adj             float64\n",
       "dtype: object"
      ]
     },
     "execution_count": 5,
     "metadata": {},
     "output_type": "execute_result"
    }
   ],
   "source": [
    "df.dtypes"
   ]
  },
  {
   "cell_type": "markdown",
   "metadata": {},
   "source": [
    "> ***Observation: df.dtypes ran succesfully returning the various dtype of each column. As we can observe, some columns are object, some are int64 and others are float64***"
   ]
  },
  {
   "cell_type": "markdown",
   "metadata": {},
   "source": [
    "\n",
    "### Data Cleaning\n",
    "> **Tip**: Make sure that you keep your reader informed on the steps that you are taking in your investigation. Follow every code cell, or every set of related code cells, with a markdown cell to describe to the reader what was found in the preceding cell(s). Try to make it so that the reader can then understand what they will be seeing in the following cell(s).\n",
    " "
   ]
  },
  {
   "cell_type": "markdown",
   "metadata": {},
   "source": [
    "## Cleaning my dataset"
   ]
  },
  {
   "cell_type": "code",
   "execution_count": 6,
   "metadata": {},
   "outputs": [],
   "source": [
    "# The first data to be cleaned are the set of data in the release_date column\n",
    "#  Here, we are coverting the format of the date to datetime\n",
    "\n",
    "df['release_date'] = pd.to_datetime(df['release_date'], infer_datetime_format = True)"
   ]
  },
  {
   "cell_type": "markdown",
   "metadata": {},
   "source": [
    "> ***Observation: pd.to_datetime ran succesfully and change has been made***"
   ]
  },
  {
   "cell_type": "code",
   "execution_count": 7,
   "metadata": {},
   "outputs": [],
   "source": [
    "# Here, we are converting the data in the budget_adj column from float64 to int64\n",
    "# This is to present the data in the actual figures rather than scientific notation\n",
    "\n",
    "df['budget_adj'] = df['budget_adj'].values.astype(np.int64)"
   ]
  },
  {
   "cell_type": "markdown",
   "metadata": {},
   "source": [
    "> ***Observation:the conversion from float64 to int64 ran succesfully and the change has been effected***"
   ]
  },
  {
   "cell_type": "code",
   "execution_count": 8,
   "metadata": {},
   "outputs": [],
   "source": [
    "# Here, we are also converting the daa in the revenue_adj column from float64 to int64\n",
    "\n",
    "df['revenue_adj'] = df['revenue_adj'].values.astype(np.int64)"
   ]
  },
  {
   "cell_type": "markdown",
   "metadata": {},
   "source": [
    "> ***Observation:the conversion from float64 to int64 ran succesfully and the change has been effected***"
   ]
  },
  {
   "cell_type": "code",
   "execution_count": 9,
   "metadata": {},
   "outputs": [
    {
     "data": {
      "text/plain": [
       "id                               int64\n",
       "imdb_id                         object\n",
       "popularity                     float64\n",
       "budget                           int64\n",
       "revenue                          int64\n",
       "original_title                  object\n",
       "cast                            object\n",
       "homepage                        object\n",
       "director                        object\n",
       "tagline                         object\n",
       "keywords                        object\n",
       "overview                        object\n",
       "runtime                          int64\n",
       "genres                          object\n",
       "production_companies            object\n",
       "release_date            datetime64[ns]\n",
       "vote_count                       int64\n",
       "vote_average                   float64\n",
       "release_year                     int64\n",
       "budget_adj                       int64\n",
       "revenue_adj                      int64\n",
       "dtype: object"
      ]
     },
     "execution_count": 9,
     "metadata": {},
     "output_type": "execute_result"
    }
   ],
   "source": [
    "# Here, we are confirming that the change has been effected using the df.types function\n",
    "\n",
    "df.dtypes"
   ]
  },
  {
   "cell_type": "markdown",
   "metadata": {},
   "source": [
    "> ***Observation:tdf.types showed us that the chnage has been effected***"
   ]
  },
  {
   "cell_type": "code",
   "execution_count": 10,
   "metadata": {},
   "outputs": [
    {
     "data": {
      "text/html": [
       "<div>\n",
       "<style scoped>\n",
       "    .dataframe tbody tr th:only-of-type {\n",
       "        vertical-align: middle;\n",
       "    }\n",
       "\n",
       "    .dataframe tbody tr th {\n",
       "        vertical-align: top;\n",
       "    }\n",
       "\n",
       "    .dataframe thead th {\n",
       "        text-align: right;\n",
       "    }\n",
       "</style>\n",
       "<table border=\"1\" class=\"dataframe\">\n",
       "  <thead>\n",
       "    <tr style=\"text-align: right;\">\n",
       "      <th></th>\n",
       "      <th>imdb_id</th>\n",
       "      <th>popularity</th>\n",
       "      <th>budget</th>\n",
       "      <th>revenue</th>\n",
       "      <th>original_title</th>\n",
       "      <th>cast</th>\n",
       "      <th>director</th>\n",
       "      <th>tagline</th>\n",
       "      <th>keywords</th>\n",
       "      <th>overview</th>\n",
       "      <th>runtime</th>\n",
       "      <th>genres</th>\n",
       "      <th>production_companies</th>\n",
       "      <th>release_date</th>\n",
       "      <th>vote_count</th>\n",
       "      <th>release_year</th>\n",
       "      <th>budget_adj</th>\n",
       "      <th>revenue_adj</th>\n",
       "    </tr>\n",
       "  </thead>\n",
       "  <tbody>\n",
       "    <tr>\n",
       "      <th>0</th>\n",
       "      <td>tt0369610</td>\n",
       "      <td>32.985763</td>\n",
       "      <td>150000000</td>\n",
       "      <td>1513528810</td>\n",
       "      <td>Jurassic World</td>\n",
       "      <td>Chris Pratt|Bryce Dallas Howard|Irrfan Khan|Vi...</td>\n",
       "      <td>Colin Trevorrow</td>\n",
       "      <td>The park is open.</td>\n",
       "      <td>monster|dna|tyrannosaurus rex|velociraptor|island</td>\n",
       "      <td>Twenty-two years after the events of Jurassic ...</td>\n",
       "      <td>124</td>\n",
       "      <td>Action|Adventure|Science Fiction|Thriller</td>\n",
       "      <td>Universal Studios|Amblin Entertainment|Legenda...</td>\n",
       "      <td>2015-06-09</td>\n",
       "      <td>5562</td>\n",
       "      <td>2015</td>\n",
       "      <td>137999939</td>\n",
       "      <td>1392445892</td>\n",
       "    </tr>\n",
       "    <tr>\n",
       "      <th>1</th>\n",
       "      <td>tt1392190</td>\n",
       "      <td>28.419936</td>\n",
       "      <td>150000000</td>\n",
       "      <td>378436354</td>\n",
       "      <td>Mad Max: Fury Road</td>\n",
       "      <td>Tom Hardy|Charlize Theron|Hugh Keays-Byrne|Nic...</td>\n",
       "      <td>George Miller</td>\n",
       "      <td>What a Lovely Day.</td>\n",
       "      <td>future|chase|post-apocalyptic|dystopia|australia</td>\n",
       "      <td>An apocalyptic story set in the furthest reach...</td>\n",
       "      <td>120</td>\n",
       "      <td>Action|Adventure|Science Fiction|Thriller</td>\n",
       "      <td>Village Roadshow Pictures|Kennedy Miller Produ...</td>\n",
       "      <td>2015-05-13</td>\n",
       "      <td>6185</td>\n",
       "      <td>2015</td>\n",
       "      <td>137999939</td>\n",
       "      <td>348161292</td>\n",
       "    </tr>\n",
       "    <tr>\n",
       "      <th>2</th>\n",
       "      <td>tt2908446</td>\n",
       "      <td>13.112507</td>\n",
       "      <td>110000000</td>\n",
       "      <td>295238201</td>\n",
       "      <td>Insurgent</td>\n",
       "      <td>Shailene Woodley|Theo James|Kate Winslet|Ansel...</td>\n",
       "      <td>Robert Schwentke</td>\n",
       "      <td>One Choice Can Destroy You</td>\n",
       "      <td>based on novel|revolution|dystopia|sequel|dyst...</td>\n",
       "      <td>Beatrice Prior must confront her inner demons ...</td>\n",
       "      <td>119</td>\n",
       "      <td>Adventure|Science Fiction|Thriller</td>\n",
       "      <td>Summit Entertainment|Mandeville Films|Red Wago...</td>\n",
       "      <td>2015-03-18</td>\n",
       "      <td>2480</td>\n",
       "      <td>2015</td>\n",
       "      <td>101199955</td>\n",
       "      <td>271619025</td>\n",
       "    </tr>\n",
       "    <tr>\n",
       "      <th>3</th>\n",
       "      <td>tt2488496</td>\n",
       "      <td>11.173104</td>\n",
       "      <td>200000000</td>\n",
       "      <td>2068178225</td>\n",
       "      <td>Star Wars: The Force Awakens</td>\n",
       "      <td>Harrison Ford|Mark Hamill|Carrie Fisher|Adam D...</td>\n",
       "      <td>J.J. Abrams</td>\n",
       "      <td>Every generation has a story.</td>\n",
       "      <td>android|spaceship|jedi|space opera|3d</td>\n",
       "      <td>Thirty years after defeating the Galactic Empi...</td>\n",
       "      <td>136</td>\n",
       "      <td>Action|Adventure|Science Fiction|Fantasy</td>\n",
       "      <td>Lucasfilm|Truenorth Productions|Bad Robot</td>\n",
       "      <td>2015-12-15</td>\n",
       "      <td>5292</td>\n",
       "      <td>2015</td>\n",
       "      <td>183999919</td>\n",
       "      <td>1902723129</td>\n",
       "    </tr>\n",
       "    <tr>\n",
       "      <th>4</th>\n",
       "      <td>tt2820852</td>\n",
       "      <td>9.335014</td>\n",
       "      <td>190000000</td>\n",
       "      <td>1506249360</td>\n",
       "      <td>Furious 7</td>\n",
       "      <td>Vin Diesel|Paul Walker|Jason Statham|Michelle ...</td>\n",
       "      <td>James Wan</td>\n",
       "      <td>Vengeance Hits Home</td>\n",
       "      <td>car race|speed|revenge|suspense|car</td>\n",
       "      <td>Deckard Shaw seeks revenge against Dominic Tor...</td>\n",
       "      <td>137</td>\n",
       "      <td>Action|Crime|Thriller</td>\n",
       "      <td>Universal Pictures|Original Film|Media Rights ...</td>\n",
       "      <td>2015-04-01</td>\n",
       "      <td>2947</td>\n",
       "      <td>2015</td>\n",
       "      <td>174799923</td>\n",
       "      <td>1385748801</td>\n",
       "    </tr>\n",
       "  </tbody>\n",
       "</table>\n",
       "</div>"
      ],
      "text/plain": [
       "     imdb_id  popularity     budget     revenue                original_title  \\\n",
       "0  tt0369610   32.985763  150000000  1513528810                Jurassic World   \n",
       "1  tt1392190   28.419936  150000000   378436354            Mad Max: Fury Road   \n",
       "2  tt2908446   13.112507  110000000   295238201                     Insurgent   \n",
       "3  tt2488496   11.173104  200000000  2068178225  Star Wars: The Force Awakens   \n",
       "4  tt2820852    9.335014  190000000  1506249360                     Furious 7   \n",
       "\n",
       "                                                cast          director  \\\n",
       "0  Chris Pratt|Bryce Dallas Howard|Irrfan Khan|Vi...   Colin Trevorrow   \n",
       "1  Tom Hardy|Charlize Theron|Hugh Keays-Byrne|Nic...     George Miller   \n",
       "2  Shailene Woodley|Theo James|Kate Winslet|Ansel...  Robert Schwentke   \n",
       "3  Harrison Ford|Mark Hamill|Carrie Fisher|Adam D...       J.J. Abrams   \n",
       "4  Vin Diesel|Paul Walker|Jason Statham|Michelle ...         James Wan   \n",
       "\n",
       "                         tagline  \\\n",
       "0              The park is open.   \n",
       "1             What a Lovely Day.   \n",
       "2     One Choice Can Destroy You   \n",
       "3  Every generation has a story.   \n",
       "4            Vengeance Hits Home   \n",
       "\n",
       "                                            keywords  \\\n",
       "0  monster|dna|tyrannosaurus rex|velociraptor|island   \n",
       "1   future|chase|post-apocalyptic|dystopia|australia   \n",
       "2  based on novel|revolution|dystopia|sequel|dyst...   \n",
       "3              android|spaceship|jedi|space opera|3d   \n",
       "4                car race|speed|revenge|suspense|car   \n",
       "\n",
       "                                            overview  runtime  \\\n",
       "0  Twenty-two years after the events of Jurassic ...      124   \n",
       "1  An apocalyptic story set in the furthest reach...      120   \n",
       "2  Beatrice Prior must confront her inner demons ...      119   \n",
       "3  Thirty years after defeating the Galactic Empi...      136   \n",
       "4  Deckard Shaw seeks revenge against Dominic Tor...      137   \n",
       "\n",
       "                                      genres  \\\n",
       "0  Action|Adventure|Science Fiction|Thriller   \n",
       "1  Action|Adventure|Science Fiction|Thriller   \n",
       "2         Adventure|Science Fiction|Thriller   \n",
       "3   Action|Adventure|Science Fiction|Fantasy   \n",
       "4                      Action|Crime|Thriller   \n",
       "\n",
       "                                production_companies release_date  vote_count  \\\n",
       "0  Universal Studios|Amblin Entertainment|Legenda...   2015-06-09        5562   \n",
       "1  Village Roadshow Pictures|Kennedy Miller Produ...   2015-05-13        6185   \n",
       "2  Summit Entertainment|Mandeville Films|Red Wago...   2015-03-18        2480   \n",
       "3          Lucasfilm|Truenorth Productions|Bad Robot   2015-12-15        5292   \n",
       "4  Universal Pictures|Original Film|Media Rights ...   2015-04-01        2947   \n",
       "\n",
       "   release_year  budget_adj  revenue_adj  \n",
       "0          2015   137999939   1392445892  \n",
       "1          2015   137999939    348161292  \n",
       "2          2015   101199955    271619025  \n",
       "3          2015   183999919   1902723129  \n",
       "4          2015   174799923   1385748801  "
      ]
     },
     "execution_count": 10,
     "metadata": {},
     "output_type": "execute_result"
    }
   ],
   "source": [
    "# Here, we are dropping three columns - 'id', 'homepage' and 'vote_average' that I believe is not needed\n",
    "\n",
    "df.drop(['id', 'homepage', 'vote_average'], axis = 1, inplace = True)\n",
    "df.head()"
   ]
  },
  {
   "cell_type": "markdown",
   "metadata": {},
   "source": [
    "> ***Observation:the the affected columns were succesfully dropped***"
   ]
  },
  {
   "cell_type": "code",
   "execution_count": 11,
   "metadata": {},
   "outputs": [
    {
     "data": {
      "image/png": "[encoded data removed]",
      "text/plain": [
       "<matplotlib.figure.Figure at 0x7f2f150af4e0>"
      ]
     },
     "metadata": {
      "needs_background": "light"
     },
     "output_type": "display_data"
    }
   ],
   "source": [
    "# Checking the data using a histogram\n",
    "df.hist(figsize=(10,8));"
   ]
  },
  {
   "cell_type": "code",
   "execution_count": 12,
   "metadata": {},
   "outputs": [
    {
     "data": {
      "text/plain": [
       "array([[<matplotlib.axes._subplots.AxesSubplot object at 0x7f272c3e3d68>,\n",
       "        <matplotlib.axes._subplots.AxesSubplot object at 0x7f272c0396d8>,\n",
       "        <matplotlib.axes._subplots.AxesSubplot object at 0x7f272c2c8748>,\n",
       "        <matplotlib.axes._subplots.AxesSubplot object at 0x7f272c2e85c0>],\n",
       "       [<matplotlib.axes._subplots.AxesSubplot object at 0x7f272c23b6d8>,\n",
       "        <matplotlib.axes._subplots.AxesSubplot object at 0x7f272c23b710>,\n",
       "        <matplotlib.axes._subplots.AxesSubplot object at 0x7f272c229198>,\n",
       "        <matplotlib.axes._subplots.AxesSubplot object at 0x7f272c1e2668>],\n",
       "       [<matplotlib.axes._subplots.AxesSubplot object at 0x7f272c198ba8>,\n",
       "        <matplotlib.axes._subplots.AxesSubplot object at 0x7f272c1a4b70>,\n",
       "        <matplotlib.axes._subplots.AxesSubplot object at 0x7f272bfb4198>,\n",
       "        <matplotlib.axes._subplots.AxesSubplot object at 0x7f272bf6c208>],\n",
       "       [<matplotlib.axes._subplots.AxesSubplot object at 0x7f272bf27208>,\n",
       "        <matplotlib.axes._subplots.AxesSubplot object at 0x7f272bee2208>,\n",
       "        <matplotlib.axes._subplots.AxesSubplot object at 0x7f272bf07c88>,\n",
       "        <matplotlib.axes._subplots.AxesSubplot object at 0x7f272bec2cf8>],\n",
       "       [<matplotlib.axes._subplots.AxesSubplot object at 0x7f272be7ccf8>,\n",
       "        <matplotlib.axes._subplots.AxesSubplot object at 0x7f272be37cf8>,\n",
       "        <matplotlib.axes._subplots.AxesSubplot object at 0x7f272bdeb978>,\n",
       "        <matplotlib.axes._subplots.AxesSubplot object at 0x7f272bda19e8>]], dtype=object)"
      ]
     },
     "execution_count": 12,
     "metadata": {},
     "output_type": "execute_result"
    },
    {
     "data": {
      "image/png": "[encoded data removed]",
      "text/plain": [
       "<matplotlib.figure.Figure at 0x7f272c3b8be0>"
      ]
     },
     "metadata": {
      "needs_background": "light"
     },
     "output_type": "display_data"
    }
   ],
   "source": [
    "# Checking the null columns using a histogram\n",
    "df.isnull().hist(figsize=(10,8))"
   ]
  },
  {
   "cell_type": "code",
   "execution_count": 12,
   "metadata": {},
   "outputs": [
    {
     "name": "stdout",
     "output_type": "stream",
     "text": [
      "imdb_id - 0.0% MISSING and total missing is: 10\n",
      "popularity - 0.0% MISSING and total missing is: 0\n",
      "budget - 0.0% MISSING and total missing is: 0\n",
      "revenue - 0.0% MISSING and total missing is: 0\n",
      "original_title - 0.0% MISSING and total missing is: 0\n",
      "cast - 1.0% MISSING and total missing is: 76\n",
      "director - 0.0% MISSING and total missing is: 44\n",
      "tagline - 26.0% MISSING and total missing is: 2824\n",
      "keywords - 14.0% MISSING and total missing is: 1493\n",
      "overview - 0.0% MISSING and total missing is: 4\n",
      "runtime - 0.0% MISSING and total missing is: 0\n",
      "genres - 0.0% MISSING and total missing is: 23\n",
      "production_companies - 9.0% MISSING and total missing is: 1030\n",
      "release_date - 0.0% MISSING and total missing is: 0\n",
      "vote_count - 0.0% MISSING and total missing is: 0\n",
      "release_year - 0.0% MISSING and total missing is: 0\n",
      "budget_adj - 0.0% MISSING and total missing is: 0\n",
      "revenue_adj - 0.0% MISSING and total missing is: 0\n"
     ]
    }
   ],
   "source": [
    "# Checking the percentage and actual umber of null columns\n",
    "for column in df.columns:\n",
    "    null_count = df[column].isnull().sum()\n",
    "    print(f'{column} - {round((null_count/df.shape[0]) * 100)}% MISSING and total missing is: {null_count}')"
   ]
  },
  {
   "cell_type": "markdown",
   "metadata": {},
   "source": [
    "> ***Observation: it can be seen that tagline, keywords, production_companies and cast had significant number of null values while imdb_id and genres had insignificant number of null values. other volumns had no null value***"
   ]
  },
  {
   "cell_type": "markdown",
   "metadata": {},
   "source": [
    "# Filling the null columns needed and dropping the unneeded columns"
   ]
  },
  {
   "cell_type": "code",
   "execution_count": 13,
   "metadata": {},
   "outputs": [],
   "source": [
    "# the movies with null value in the tagline columns were filled up\n",
    "\n",
    "df.tagline.fillna('NO TAGLINE', inplace=True)"
   ]
  },
  {
   "cell_type": "code",
   "execution_count": 14,
   "metadata": {},
   "outputs": [],
   "source": [
    "# the movies with null value in the keyword columns were filled up\n",
    "\n",
    "df.keywords.fillna('NO KEYWORD', inplace=True)"
   ]
  },
  {
   "cell_type": "code",
   "execution_count": 15,
   "metadata": {},
   "outputs": [],
   "source": [
    "# the movies with null value in the cast were filled up \n",
    "\n",
    "df.cast.fillna('CAST NOT PROVIDED', inplace=True)"
   ]
  },
  {
   "cell_type": "code",
   "execution_count": 16,
   "metadata": {},
   "outputs": [],
   "source": [
    "# the movies with null value in the production_companies column were filled up\n",
    "\n",
    "df.production_companies.fillna('NO PRODUCTION COMPANY DETAILS', inplace=True)"
   ]
  },
  {
   "cell_type": "code",
   "execution_count": 17,
   "metadata": {},
   "outputs": [],
   "source": [
    "# The rows with insignificant null were dropped\n",
    "\n",
    "df.dropna(axis=0, inplace=True)"
   ]
  },
  {
   "cell_type": "code",
   "execution_count": 18,
   "metadata": {},
   "outputs": [
    {
     "name": "stdout",
     "output_type": "stream",
     "text": [
      "imdb_id - 0.0% ZERO and total zeroes is: 0\n",
      "popularity - 0.0% ZERO and total zeroes is: 0\n",
      "budget - 52.0% ZERO and total zeroes is: 5630\n",
      "revenue - 55.0% ZERO and total zeroes is: 5945\n",
      "original_title - 0.0% ZERO and total zeroes is: 0\n",
      "cast - 0.0% ZERO and total zeroes is: 0\n",
      "director - 0.0% ZERO and total zeroes is: 0\n",
      "tagline - 0.0% ZERO and total zeroes is: 0\n",
      "keywords - 0.0% ZERO and total zeroes is: 0\n",
      "overview - 0.0% ZERO and total zeroes is: 0\n",
      "runtime - 0.0% ZERO and total zeroes is: 27\n",
      "genres - 0.0% ZERO and total zeroes is: 0\n",
      "production_companies - 0.0% ZERO and total zeroes is: 0\n",
      "release_date - 0.0% ZERO and total zeroes is: 0\n",
      "vote_count - 0.0% ZERO and total zeroes is: 0\n",
      "release_year - 0.0% ZERO and total zeroes is: 0\n",
      "budget_adj - 52.0% ZERO and total zeroes is: 5632\n",
      "revenue_adj - 55.0% ZERO and total zeroes is: 5945\n"
     ]
    }
   ],
   "source": [
    "# Checking for zeroes in the columns\n",
    "for column in df.columns:\n",
    "    zero_count = (df[column] == 0).sum()\n",
    "    print(f'{column} - {round((zero_count/df.shape[0]) * 100)}% ZERO and total zeroes is: {zero_count}')"
   ]
  },
  {
   "cell_type": "code",
   "execution_count": 19,
   "metadata": {},
   "outputs": [],
   "source": [
    "# Defining a function to replace the zeroes in each column with the mean of each column\n",
    "def zero_rep(cols):\n",
    "    for col in cols:\n",
    "         df[col]=df[col].mask(df[col]==0).fillna(df[col].mean());\n",
    "zero_rep(['budget','revenue','runtime','budget_adj','revenue_adj'])"
   ]
  },
  {
   "cell_type": "markdown",
   "metadata": {},
   "source": [
    "> ***Observation: function run successfully and all zeroes have been replaced by their mean***"
   ]
  },
  {
   "cell_type": "code",
   "execution_count": 20,
   "metadata": {},
   "outputs": [
    {
     "name": "stdout",
     "output_type": "stream",
     "text": [
      "imdb_id - 0.0% ZERO and total zeroes is: 0\n",
      "popularity - 0.0% ZERO and total zeroes is: 0\n",
      "budget - 0.0% ZERO and total zeroes is: 0\n",
      "revenue - 0.0% ZERO and total zeroes is: 0\n",
      "original_title - 0.0% ZERO and total zeroes is: 0\n",
      "cast - 0.0% ZERO and total zeroes is: 0\n",
      "director - 0.0% ZERO and total zeroes is: 0\n",
      "tagline - 0.0% ZERO and total zeroes is: 0\n",
      "keywords - 0.0% ZERO and total zeroes is: 0\n",
      "overview - 0.0% ZERO and total zeroes is: 0\n",
      "runtime - 0.0% ZERO and total zeroes is: 0\n",
      "genres - 0.0% ZERO and total zeroes is: 0\n",
      "production_companies - 0.0% ZERO and total zeroes is: 0\n",
      "release_date - 0.0% ZERO and total zeroes is: 0\n",
      "vote_count - 0.0% ZERO and total zeroes is: 0\n",
      "release_year - 0.0% ZERO and total zeroes is: 0\n",
      "budget_adj - 0.0% ZERO and total zeroes is: 0\n",
      "revenue_adj - 0.0% ZERO and total zeroes is: 0\n"
     ]
    }
   ],
   "source": [
    "# Checking for zeroes in the columns to confirm the zeroes were replaced\n",
    "for column in df.columns:\n",
    "    zero_count = (df[column] == 0).sum()\n",
    "    print(f'{column} - {round((zero_count/df.shape[0]) * 100)}% ZERO and total zeroes is: {zero_count}')"
   ]
  },
  {
   "cell_type": "code",
   "execution_count": 21,
   "metadata": {},
   "outputs": [],
   "source": [
    "# Creating the profit column\n",
    "df['profit'] = df['revenue'] - df['budget']"
   ]
  },
  {
   "cell_type": "code",
   "execution_count": 22,
   "metadata": {},
   "outputs": [],
   "source": [
    "# Creating the inflation adjusted profit\n",
    "df['profit_adj'] = df['revenue_adj'] - df['budget_adj']"
   ]
  },
  {
   "cell_type": "code",
   "execution_count": 23,
   "metadata": {},
   "outputs": [],
   "source": [
    "# coverting the dtype of the newly created profit_adj column from float64 to int64\n",
    "\n",
    "df['profit_adj'] = df['profit_adj'].values.astype(np.int64)"
   ]
  },
  {
   "cell_type": "code",
   "execution_count": 24,
   "metadata": {},
   "outputs": [
    {
     "data": {
      "text/plain": [
       "imdb_id                 0\n",
       "popularity              0\n",
       "budget                  0\n",
       "revenue                 0\n",
       "original_title          0\n",
       "cast                    0\n",
       "director                0\n",
       "tagline                 0\n",
       "keywords                0\n",
       "overview                0\n",
       "runtime                 0\n",
       "genres                  0\n",
       "production_companies    0\n",
       "release_date            0\n",
       "vote_count              0\n",
       "release_year            0\n",
       "budget_adj              0\n",
       "revenue_adj             0\n",
       "profit                  0\n",
       "profit_adj              0\n",
       "dtype: int64"
      ]
     },
     "execution_count": 24,
     "metadata": {},
     "output_type": "execute_result"
    }
   ],
   "source": [
    "# checking for missing values\n",
    "\n",
    "df.isna().sum()"
   ]
  },
  {
   "cell_type": "markdown",
   "metadata": {},
   "source": [
    "> ***Observation:it can be observed that there is no column with missing values again***"
   ]
  },
  {
   "cell_type": "markdown",
   "metadata": {},
   "source": [
    "### GROUP 1 QUESTIONS"
   ]
  },
  {
   "cell_type": "markdown",
   "metadata": {},
   "source": [
    "> In this category, our questions to be answered are:\n",
    "\n",
    "> 1) In terms of actual value, what are the top 10 movies with the highest production budget?\n",
    "\n",
    "> 2) In terms of inflation adjusted vlaue, what are the top 10 movies with the highest production budget?\n",
    "\n",
    "> 3) In terms of actual value, what are the top 10 highest gross earning movies?\n",
    "\n",
    "> 4) In terms of inflation adjusted value, what are the top 10 highest gross earning movies?\n",
    "\n",
    "> 5) In terms of actual value, what are the top 10 most profitable movies?\n",
    "\n",
    "> 6) In terms of inflation adjusted value, what are the top 10 most profitable movies?\n",
    "\n",
    "> 7) What are the top 10 most popular movies in the dataset?\n"
   ]
  },
  {
   "cell_type": "code",
   "execution_count": 25,
   "metadata": {},
   "outputs": [],
   "source": [
    "# Creating two new tables seperating the columns into category and numerals \n",
    "\n",
    "category_cols = df.select_dtypes(exclude=[np.number])\n",
    "numeric_cols = df.select_dtypes(include=[np.number])"
   ]
  },
  {
   "cell_type": "code",
   "execution_count": 26,
   "metadata": {},
   "outputs": [
    {
     "data": {
      "text/html": [
       "<div>\n",
       "<style scoped>\n",
       "    .dataframe tbody tr th:only-of-type {\n",
       "        vertical-align: middle;\n",
       "    }\n",
       "\n",
       "    .dataframe tbody tr th {\n",
       "        vertical-align: top;\n",
       "    }\n",
       "\n",
       "    .dataframe thead th {\n",
       "        text-align: right;\n",
       "    }\n",
       "</style>\n",
       "<table border=\"1\" class=\"dataframe\">\n",
       "  <thead>\n",
       "    <tr style=\"text-align: right;\">\n",
       "      <th></th>\n",
       "      <th>imdb_id</th>\n",
       "      <th>original_title</th>\n",
       "      <th>cast</th>\n",
       "      <th>director</th>\n",
       "      <th>tagline</th>\n",
       "      <th>keywords</th>\n",
       "      <th>overview</th>\n",
       "      <th>genres</th>\n",
       "      <th>production_companies</th>\n",
       "      <th>release_date</th>\n",
       "    </tr>\n",
       "  </thead>\n",
       "  <tbody>\n",
       "    <tr>\n",
       "      <th>0</th>\n",
       "      <td>tt0369610</td>\n",
       "      <td>Jurassic World</td>\n",
       "      <td>Chris Pratt|Bryce Dallas Howard|Irrfan Khan|Vi...</td>\n",
       "      <td>Colin Trevorrow</td>\n",
       "      <td>The park is open.</td>\n",
       "      <td>monster|dna|tyrannosaurus rex|velociraptor|island</td>\n",
       "      <td>Twenty-two years after the events of Jurassic ...</td>\n",
       "      <td>Action|Adventure|Science Fiction|Thriller</td>\n",
       "      <td>Universal Studios|Amblin Entertainment|Legenda...</td>\n",
       "      <td>2015-06-09</td>\n",
       "    </tr>\n",
       "    <tr>\n",
       "      <th>1</th>\n",
       "      <td>tt1392190</td>\n",
       "      <td>Mad Max: Fury Road</td>\n",
       "      <td>Tom Hardy|Charlize Theron|Hugh Keays-Byrne|Nic...</td>\n",
       "      <td>George Miller</td>\n",
       "      <td>What a Lovely Day.</td>\n",
       "      <td>future|chase|post-apocalyptic|dystopia|australia</td>\n",
       "      <td>An apocalyptic story set in the furthest reach...</td>\n",
       "      <td>Action|Adventure|Science Fiction|Thriller</td>\n",
       "      <td>Village Roadshow Pictures|Kennedy Miller Produ...</td>\n",
       "      <td>2015-05-13</td>\n",
       "    </tr>\n",
       "    <tr>\n",
       "      <th>2</th>\n",
       "      <td>tt2908446</td>\n",
       "      <td>Insurgent</td>\n",
       "      <td>Shailene Woodley|Theo James|Kate Winslet|Ansel...</td>\n",
       "      <td>Robert Schwentke</td>\n",
       "      <td>One Choice Can Destroy You</td>\n",
       "      <td>based on novel|revolution|dystopia|sequel|dyst...</td>\n",
       "      <td>Beatrice Prior must confront her inner demons ...</td>\n",
       "      <td>Adventure|Science Fiction|Thriller</td>\n",
       "      <td>Summit Entertainment|Mandeville Films|Red Wago...</td>\n",
       "      <td>2015-03-18</td>\n",
       "    </tr>\n",
       "    <tr>\n",
       "      <th>3</th>\n",
       "      <td>tt2488496</td>\n",
       "      <td>Star Wars: The Force Awakens</td>\n",
       "      <td>Harrison Ford|Mark Hamill|Carrie Fisher|Adam D...</td>\n",
       "      <td>J.J. Abrams</td>\n",
       "      <td>Every generation has a story.</td>\n",
       "      <td>android|spaceship|jedi|space opera|3d</td>\n",
       "      <td>Thirty years after defeating the Galactic Empi...</td>\n",
       "      <td>Action|Adventure|Science Fiction|Fantasy</td>\n",
       "      <td>Lucasfilm|Truenorth Productions|Bad Robot</td>\n",
       "      <td>2015-12-15</td>\n",
       "    </tr>\n",
       "    <tr>\n",
       "      <th>4</th>\n",
       "      <td>tt2820852</td>\n",
       "      <td>Furious 7</td>\n",
       "      <td>Vin Diesel|Paul Walker|Jason Statham|Michelle ...</td>\n",
       "      <td>James Wan</td>\n",
       "      <td>Vengeance Hits Home</td>\n",
       "      <td>car race|speed|revenge|suspense|car</td>\n",
       "      <td>Deckard Shaw seeks revenge against Dominic Tor...</td>\n",
       "      <td>Action|Crime|Thriller</td>\n",
       "      <td>Universal Pictures|Original Film|Media Rights ...</td>\n",
       "      <td>2015-04-01</td>\n",
       "    </tr>\n",
       "  </tbody>\n",
       "</table>\n",
       "</div>"
      ],
      "text/plain": [
       "     imdb_id                original_title  \\\n",
       "0  tt0369610                Jurassic World   \n",
       "1  tt1392190            Mad Max: Fury Road   \n",
       "2  tt2908446                     Insurgent   \n",
       "3  tt2488496  Star Wars: The Force Awakens   \n",
       "4  tt2820852                     Furious 7   \n",
       "\n",
       "                                                cast          director  \\\n",
       "0  Chris Pratt|Bryce Dallas Howard|Irrfan Khan|Vi...   Colin Trevorrow   \n",
       "1  Tom Hardy|Charlize Theron|Hugh Keays-Byrne|Nic...     George Miller   \n",
       "2  Shailene Woodley|Theo James|Kate Winslet|Ansel...  Robert Schwentke   \n",
       "3  Harrison Ford|Mark Hamill|Carrie Fisher|Adam D...       J.J. Abrams   \n",
       "4  Vin Diesel|Paul Walker|Jason Statham|Michelle ...         James Wan   \n",
       "\n",
       "                         tagline  \\\n",
       "0              The park is open.   \n",
       "1             What a Lovely Day.   \n",
       "2     One Choice Can Destroy You   \n",
       "3  Every generation has a story.   \n",
       "4            Vengeance Hits Home   \n",
       "\n",
       "                                            keywords  \\\n",
       "0  monster|dna|tyrannosaurus rex|velociraptor|island   \n",
       "1   future|chase|post-apocalyptic|dystopia|australia   \n",
       "2  based on novel|revolution|dystopia|sequel|dyst...   \n",
       "3              android|spaceship|jedi|space opera|3d   \n",
       "4                car race|speed|revenge|suspense|car   \n",
       "\n",
       "                                            overview  \\\n",
       "0  Twenty-two years after the events of Jurassic ...   \n",
       "1  An apocalyptic story set in the furthest reach...   \n",
       "2  Beatrice Prior must confront her inner demons ...   \n",
       "3  Thirty years after defeating the Galactic Empi...   \n",
       "4  Deckard Shaw seeks revenge against Dominic Tor...   \n",
       "\n",
       "                                      genres  \\\n",
       "0  Action|Adventure|Science Fiction|Thriller   \n",
       "1  Action|Adventure|Science Fiction|Thriller   \n",
       "2         Adventure|Science Fiction|Thriller   \n",
       "3   Action|Adventure|Science Fiction|Fantasy   \n",
       "4                      Action|Crime|Thriller   \n",
       "\n",
       "                                production_companies release_date  \n",
       "0  Universal Studios|Amblin Entertainment|Legenda...   2015-06-09  \n",
       "1  Village Roadshow Pictures|Kennedy Miller Produ...   2015-05-13  \n",
       "2  Summit Entertainment|Mandeville Films|Red Wago...   2015-03-18  \n",
       "3          Lucasfilm|Truenorth Productions|Bad Robot   2015-12-15  \n",
       "4  Universal Pictures|Original Film|Media Rights ...   2015-04-01  "
      ]
     },
     "execution_count": 26,
     "metadata": {},
     "output_type": "execute_result"
    }
   ],
   "source": [
    "category_cols.head()"
   ]
  },
  {
   "cell_type": "markdown",
   "metadata": {},
   "source": [
    "> ***Observation:It can be observed from the above function that the new table was succesfully created and it contained only the category excluding all figures***"
   ]
  },
  {
   "cell_type": "code",
   "execution_count": 27,
   "metadata": {},
   "outputs": [
    {
     "data": {
      "text/html": [
       "<div>\n",
       "<style scoped>\n",
       "    .dataframe tbody tr th:only-of-type {\n",
       "        vertical-align: middle;\n",
       "    }\n",
       "\n",
       "    .dataframe tbody tr th {\n",
       "        vertical-align: top;\n",
       "    }\n",
       "\n",
       "    .dataframe thead th {\n",
       "        text-align: right;\n",
       "    }\n",
       "</style>\n",
       "<table border=\"1\" class=\"dataframe\">\n",
       "  <thead>\n",
       "    <tr style=\"text-align: right;\">\n",
       "      <th></th>\n",
       "      <th>popularity</th>\n",
       "      <th>budget</th>\n",
       "      <th>revenue</th>\n",
       "      <th>runtime</th>\n",
       "      <th>vote_count</th>\n",
       "      <th>release_year</th>\n",
       "      <th>budget_adj</th>\n",
       "      <th>revenue_adj</th>\n",
       "      <th>profit</th>\n",
       "      <th>profit_adj</th>\n",
       "    </tr>\n",
       "  </thead>\n",
       "  <tbody>\n",
       "    <tr>\n",
       "      <th>0</th>\n",
       "      <td>32.985763</td>\n",
       "      <td>150000000.0</td>\n",
       "      <td>1.513529e+09</td>\n",
       "      <td>124.0</td>\n",
       "      <td>5562</td>\n",
       "      <td>2015</td>\n",
       "      <td>137999939.0</td>\n",
       "      <td>1.392446e+09</td>\n",
       "      <td>1.363529e+09</td>\n",
       "      <td>1254445953</td>\n",
       "    </tr>\n",
       "    <tr>\n",
       "      <th>1</th>\n",
       "      <td>28.419936</td>\n",
       "      <td>150000000.0</td>\n",
       "      <td>3.784364e+08</td>\n",
       "      <td>120.0</td>\n",
       "      <td>6185</td>\n",
       "      <td>2015</td>\n",
       "      <td>137999939.0</td>\n",
       "      <td>3.481613e+08</td>\n",
       "      <td>2.284364e+08</td>\n",
       "      <td>210161353</td>\n",
       "    </tr>\n",
       "    <tr>\n",
       "      <th>2</th>\n",
       "      <td>13.112507</td>\n",
       "      <td>110000000.0</td>\n",
       "      <td>2.952382e+08</td>\n",
       "      <td>119.0</td>\n",
       "      <td>2480</td>\n",
       "      <td>2015</td>\n",
       "      <td>101199955.0</td>\n",
       "      <td>2.716190e+08</td>\n",
       "      <td>1.852382e+08</td>\n",
       "      <td>170419070</td>\n",
       "    </tr>\n",
       "    <tr>\n",
       "      <th>3</th>\n",
       "      <td>11.173104</td>\n",
       "      <td>200000000.0</td>\n",
       "      <td>2.068178e+09</td>\n",
       "      <td>136.0</td>\n",
       "      <td>5292</td>\n",
       "      <td>2015</td>\n",
       "      <td>183999919.0</td>\n",
       "      <td>1.902723e+09</td>\n",
       "      <td>1.868178e+09</td>\n",
       "      <td>1718723210</td>\n",
       "    </tr>\n",
       "    <tr>\n",
       "      <th>4</th>\n",
       "      <td>9.335014</td>\n",
       "      <td>190000000.0</td>\n",
       "      <td>1.506249e+09</td>\n",
       "      <td>137.0</td>\n",
       "      <td>2947</td>\n",
       "      <td>2015</td>\n",
       "      <td>174799923.0</td>\n",
       "      <td>1.385749e+09</td>\n",
       "      <td>1.316249e+09</td>\n",
       "      <td>1210948878</td>\n",
       "    </tr>\n",
       "  </tbody>\n",
       "</table>\n",
       "</div>"
      ],
      "text/plain": [
       "   popularity       budget       revenue  runtime  vote_count  release_year  \\\n",
       "0   32.985763  150000000.0  1.513529e+09    124.0        5562          2015   \n",
       "1   28.419936  150000000.0  3.784364e+08    120.0        6185          2015   \n",
       "2   13.112507  110000000.0  2.952382e+08    119.0        2480          2015   \n",
       "3   11.173104  200000000.0  2.068178e+09    136.0        5292          2015   \n",
       "4    9.335014  190000000.0  1.506249e+09    137.0        2947          2015   \n",
       "\n",
       "    budget_adj   revenue_adj        profit  profit_adj  \n",
       "0  137999939.0  1.392446e+09  1.363529e+09  1254445953  \n",
       "1  137999939.0  3.481613e+08  2.284364e+08   210161353  \n",
       "2  101199955.0  2.716190e+08  1.852382e+08   170419070  \n",
       "3  183999919.0  1.902723e+09  1.868178e+09  1718723210  \n",
       "4  174799923.0  1.385749e+09  1.316249e+09  1210948878  "
      ]
     },
     "execution_count": 27,
     "metadata": {},
     "output_type": "execute_result"
    }
   ],
   "source": [
    "numeric_cols.head()"
   ]
  },
  {
   "cell_type": "markdown",
   "metadata": {},
   "source": [
    "> ***Observation:It can be observed that the numeric table was succesfully created and it excluded all categories***"
   ]
  },
  {
   "cell_type": "code",
   "execution_count": 28,
   "metadata": {},
   "outputs": [
    {
     "data": {
      "text/plain": [
       "Index(['imdb_id', 'popularity', 'budget', 'revenue', 'original_title', 'cast',\n",
       "       'director', 'tagline', 'keywords', 'overview', 'runtime', 'genres',\n",
       "       'production_companies', 'release_date', 'vote_count', 'release_year',\n",
       "       'budget_adj', 'revenue_adj', 'profit', 'profit_adj'],\n",
       "      dtype='object')"
      ]
     },
     "execution_count": 28,
     "metadata": {},
     "output_type": "execute_result"
    }
   ],
   "source": [
    "# checking the column names for easy access in subsequent functions calling\n",
    "\n",
    "df.columns"
   ]
  },
  {
   "cell_type": "code",
   "execution_count": 29,
   "metadata": {},
   "outputs": [],
   "source": [
    "# Selecting the needed and informative columns\n",
    "\n",
    "cols_required = ['original_title', 'release_year', 'runtime', 'popularity', 'budget', 'revenue', 'budget_adj', 'revenue_adj','profit','profit_adj']"
   ]
  },
  {
   "cell_type": "code",
   "execution_count": 30,
   "metadata": {},
   "outputs": [
    {
     "data": {
      "text/html": [
       "<div>\n",
       "<style scoped>\n",
       "    .dataframe tbody tr th:only-of-type {\n",
       "        vertical-align: middle;\n",
       "    }\n",
       "\n",
       "    .dataframe tbody tr th {\n",
       "        vertical-align: top;\n",
       "    }\n",
       "\n",
       "    .dataframe thead th {\n",
       "        text-align: right;\n",
       "    }\n",
       "</style>\n",
       "<table border=\"1\" class=\"dataframe\">\n",
       "  <thead>\n",
       "    <tr style=\"text-align: right;\">\n",
       "      <th></th>\n",
       "      <th>original_title</th>\n",
       "      <th>release_year</th>\n",
       "      <th>runtime</th>\n",
       "      <th>popularity</th>\n",
       "      <th>budget</th>\n",
       "      <th>revenue</th>\n",
       "      <th>budget_adj</th>\n",
       "      <th>revenue_adj</th>\n",
       "      <th>profit</th>\n",
       "      <th>profit_adj</th>\n",
       "    </tr>\n",
       "  </thead>\n",
       "  <tbody>\n",
       "    <tr>\n",
       "      <th>2244</th>\n",
       "      <td>The Warrior's Way</td>\n",
       "      <td>2010</td>\n",
       "      <td>100.0</td>\n",
       "      <td>0.250540</td>\n",
       "      <td>425000000.0</td>\n",
       "      <td>1.108757e+07</td>\n",
       "      <td>425000000.0</td>\n",
       "      <td>1.108757e+07</td>\n",
       "      <td>-4.139124e+08</td>\n",
       "      <td>-413912431</td>\n",
       "    </tr>\n",
       "    <tr>\n",
       "      <th>3375</th>\n",
       "      <td>Pirates of the Caribbean: On Stranger Tides</td>\n",
       "      <td>2011</td>\n",
       "      <td>136.0</td>\n",
       "      <td>4.955130</td>\n",
       "      <td>380000000.0</td>\n",
       "      <td>1.021683e+09</td>\n",
       "      <td>368371256.0</td>\n",
       "      <td>9.904175e+08</td>\n",
       "      <td>6.416830e+08</td>\n",
       "      <td>622046244</td>\n",
       "    </tr>\n",
       "    <tr>\n",
       "      <th>7387</th>\n",
       "      <td>Pirates of the Caribbean: At World's End</td>\n",
       "      <td>2007</td>\n",
       "      <td>169.0</td>\n",
       "      <td>4.965391</td>\n",
       "      <td>300000000.0</td>\n",
       "      <td>9.610000e+08</td>\n",
       "      <td>315500574.0</td>\n",
       "      <td>1.010654e+09</td>\n",
       "      <td>6.610000e+08</td>\n",
       "      <td>695152933</td>\n",
       "    </tr>\n",
       "    <tr>\n",
       "      <th>14</th>\n",
       "      <td>Avengers: Age of Ultron</td>\n",
       "      <td>2015</td>\n",
       "      <td>141.0</td>\n",
       "      <td>5.944927</td>\n",
       "      <td>280000000.0</td>\n",
       "      <td>1.405036e+09</td>\n",
       "      <td>257599886.0</td>\n",
       "      <td>1.292632e+09</td>\n",
       "      <td>1.125036e+09</td>\n",
       "      <td>1035032450</td>\n",
       "    </tr>\n",
       "    <tr>\n",
       "      <th>6570</th>\n",
       "      <td>Superman Returns</td>\n",
       "      <td>2006</td>\n",
       "      <td>154.0</td>\n",
       "      <td>1.957331</td>\n",
       "      <td>270000000.0</td>\n",
       "      <td>3.910812e+08</td>\n",
       "      <td>292050672.0</td>\n",
       "      <td>4.230205e+08</td>\n",
       "      <td>1.210812e+08</td>\n",
       "      <td>130969791</td>\n",
       "    </tr>\n",
       "    <tr>\n",
       "      <th>1929</th>\n",
       "      <td>Tangled</td>\n",
       "      <td>2010</td>\n",
       "      <td>100.0</td>\n",
       "      <td>2.865684</td>\n",
       "      <td>260000000.0</td>\n",
       "      <td>5.917949e+08</td>\n",
       "      <td>260000000.0</td>\n",
       "      <td>5.917949e+08</td>\n",
       "      <td>3.317949e+08</td>\n",
       "      <td>331794936</td>\n",
       "    </tr>\n",
       "    <tr>\n",
       "      <th>4411</th>\n",
       "      <td>John Carter</td>\n",
       "      <td>2012</td>\n",
       "      <td>132.0</td>\n",
       "      <td>1.588457</td>\n",
       "      <td>260000000.0</td>\n",
       "      <td>2.841391e+08</td>\n",
       "      <td>246933513.0</td>\n",
       "      <td>2.698595e+08</td>\n",
       "      <td>2.413910e+07</td>\n",
       "      <td>22925972</td>\n",
       "    </tr>\n",
       "    <tr>\n",
       "      <th>7394</th>\n",
       "      <td>Spider-Man 3</td>\n",
       "      <td>2007</td>\n",
       "      <td>139.0</td>\n",
       "      <td>2.520912</td>\n",
       "      <td>258000000.0</td>\n",
       "      <td>8.908716e+08</td>\n",
       "      <td>271330494.0</td>\n",
       "      <td>9.369017e+08</td>\n",
       "      <td>6.328716e+08</td>\n",
       "      <td>665571206</td>\n",
       "    </tr>\n",
       "    <tr>\n",
       "      <th>5508</th>\n",
       "      <td>The Lone Ranger</td>\n",
       "      <td>2013</td>\n",
       "      <td>149.0</td>\n",
       "      <td>1.214510</td>\n",
       "      <td>255000000.0</td>\n",
       "      <td>8.928991e+07</td>\n",
       "      <td>238688504.0</td>\n",
       "      <td>8.357833e+07</td>\n",
       "      <td>-1.657101e+08</td>\n",
       "      <td>-155110171</td>\n",
       "    </tr>\n",
       "    <tr>\n",
       "      <th>1389</th>\n",
       "      <td>Harry Potter and the Half-Blood Prince</td>\n",
       "      <td>2009</td>\n",
       "      <td>153.0</td>\n",
       "      <td>5.076472</td>\n",
       "      <td>250000000.0</td>\n",
       "      <td>9.339592e+08</td>\n",
       "      <td>254100108.0</td>\n",
       "      <td>9.492765e+08</td>\n",
       "      <td>6.839592e+08</td>\n",
       "      <td>695176425</td>\n",
       "    </tr>\n",
       "  </tbody>\n",
       "</table>\n",
       "</div>"
      ],
      "text/plain": [
       "                                   original_title  release_year  runtime  \\\n",
       "2244                            The Warrior's Way          2010    100.0   \n",
       "3375  Pirates of the Caribbean: On Stranger Tides          2011    136.0   \n",
       "7387     Pirates of the Caribbean: At World's End          2007    169.0   \n",
       "14                        Avengers: Age of Ultron          2015    141.0   \n",
       "6570                             Superman Returns          2006    154.0   \n",
       "1929                                      Tangled          2010    100.0   \n",
       "4411                                  John Carter          2012    132.0   \n",
       "7394                                 Spider-Man 3          2007    139.0   \n",
       "5508                              The Lone Ranger          2013    149.0   \n",
       "1389       Harry Potter and the Half-Blood Prince          2009    153.0   \n",
       "\n",
       "      popularity       budget       revenue   budget_adj   revenue_adj  \\\n",
       "2244    0.250540  425000000.0  1.108757e+07  425000000.0  1.108757e+07   \n",
       "3375    4.955130  380000000.0  1.021683e+09  368371256.0  9.904175e+08   \n",
       "7387    4.965391  300000000.0  9.610000e+08  315500574.0  1.010654e+09   \n",
       "14      5.944927  280000000.0  1.405036e+09  257599886.0  1.292632e+09   \n",
       "6570    1.957331  270000000.0  3.910812e+08  292050672.0  4.230205e+08   \n",
       "1929    2.865684  260000000.0  5.917949e+08  260000000.0  5.917949e+08   \n",
       "4411    1.588457  260000000.0  2.841391e+08  246933513.0  2.698595e+08   \n",
       "7394    2.520912  258000000.0  8.908716e+08  271330494.0  9.369017e+08   \n",
       "5508    1.214510  255000000.0  8.928991e+07  238688504.0  8.357833e+07   \n",
       "1389    5.076472  250000000.0  9.339592e+08  254100108.0  9.492765e+08   \n",
       "\n",
       "            profit  profit_adj  \n",
       "2244 -4.139124e+08  -413912431  \n",
       "3375  6.416830e+08   622046244  \n",
       "7387  6.610000e+08   695152933  \n",
       "14    1.125036e+09  1035032450  \n",
       "6570  1.210812e+08   130969791  \n",
       "1929  3.317949e+08   331794936  \n",
       "4411  2.413910e+07    22925972  \n",
       "7394  6.328716e+08   665571206  \n",
       "5508 -1.657101e+08  -155110171  \n",
       "1389  6.839592e+08   695176425  "
      ]
     },
     "execution_count": 30,
     "metadata": {},
     "output_type": "execute_result"
    }
   ],
   "source": [
    "# In terms of actual value, what are the top 10 movies with the highest production budget?\n",
    "\n",
    "df.loc[df.budget.sort_values(ascending=False).head(10).index, cols_required]"
   ]
  },
  {
   "cell_type": "markdown",
   "metadata": {},
   "source": [
    "> ***Observations: The movies above can be seen to be the top 10 movies with the highest production budget*** "
   ]
  },
  {
   "cell_type": "code",
   "execution_count": 32,
   "metadata": {},
   "outputs": [
    {
     "data": {
      "text/html": [
       "<div>\n",
       "<style scoped>\n",
       "    .dataframe tbody tr th:only-of-type {\n",
       "        vertical-align: middle;\n",
       "    }\n",
       "\n",
       "    .dataframe tbody tr th {\n",
       "        vertical-align: top;\n",
       "    }\n",
       "\n",
       "    .dataframe thead th {\n",
       "        text-align: right;\n",
       "    }\n",
       "</style>\n",
       "<table border=\"1\" class=\"dataframe\">\n",
       "  <thead>\n",
       "    <tr style=\"text-align: right;\">\n",
       "      <th></th>\n",
       "      <th>original_title</th>\n",
       "      <th>release_year</th>\n",
       "      <th>runtime</th>\n",
       "      <th>popularity</th>\n",
       "      <th>budget</th>\n",
       "      <th>revenue</th>\n",
       "      <th>budget_adj</th>\n",
       "      <th>revenue_adj</th>\n",
       "      <th>profit</th>\n",
       "      <th>profit_adj</th>\n",
       "    </tr>\n",
       "  </thead>\n",
       "  <tbody>\n",
       "    <tr>\n",
       "      <th>2244</th>\n",
       "      <td>The Warrior's Way</td>\n",
       "      <td>2010</td>\n",
       "      <td>100.0</td>\n",
       "      <td>0.250540</td>\n",
       "      <td>425000000.0</td>\n",
       "      <td>1.108757e+07</td>\n",
       "      <td>425000000.0</td>\n",
       "      <td>1.108757e+07</td>\n",
       "      <td>-4.139124e+08</td>\n",
       "      <td>-413912431</td>\n",
       "    </tr>\n",
       "    <tr>\n",
       "      <th>3375</th>\n",
       "      <td>Pirates of the Caribbean: On Stranger Tides</td>\n",
       "      <td>2011</td>\n",
       "      <td>136.0</td>\n",
       "      <td>4.955130</td>\n",
       "      <td>380000000.0</td>\n",
       "      <td>1.021683e+09</td>\n",
       "      <td>368371256.0</td>\n",
       "      <td>9.904175e+08</td>\n",
       "      <td>6.416830e+08</td>\n",
       "      <td>622046244</td>\n",
       "    </tr>\n",
       "    <tr>\n",
       "      <th>7387</th>\n",
       "      <td>Pirates of the Caribbean: At World's End</td>\n",
       "      <td>2007</td>\n",
       "      <td>169.0</td>\n",
       "      <td>4.965391</td>\n",
       "      <td>300000000.0</td>\n",
       "      <td>9.610000e+08</td>\n",
       "      <td>315500574.0</td>\n",
       "      <td>1.010654e+09</td>\n",
       "      <td>6.610000e+08</td>\n",
       "      <td>695152933</td>\n",
       "    </tr>\n",
       "    <tr>\n",
       "      <th>6570</th>\n",
       "      <td>Superman Returns</td>\n",
       "      <td>2006</td>\n",
       "      <td>154.0</td>\n",
       "      <td>1.957331</td>\n",
       "      <td>270000000.0</td>\n",
       "      <td>3.910812e+08</td>\n",
       "      <td>292050672.0</td>\n",
       "      <td>4.230205e+08</td>\n",
       "      <td>1.210812e+08</td>\n",
       "      <td>130969791</td>\n",
       "    </tr>\n",
       "    <tr>\n",
       "      <th>5231</th>\n",
       "      <td>Titanic</td>\n",
       "      <td>1997</td>\n",
       "      <td>194.0</td>\n",
       "      <td>4.355219</td>\n",
       "      <td>200000000.0</td>\n",
       "      <td>1.845034e+09</td>\n",
       "      <td>271692064.0</td>\n",
       "      <td>2.506406e+09</td>\n",
       "      <td>1.645034e+09</td>\n",
       "      <td>2234713671</td>\n",
       "    </tr>\n",
       "    <tr>\n",
       "      <th>7394</th>\n",
       "      <td>Spider-Man 3</td>\n",
       "      <td>2007</td>\n",
       "      <td>139.0</td>\n",
       "      <td>2.520912</td>\n",
       "      <td>258000000.0</td>\n",
       "      <td>8.908716e+08</td>\n",
       "      <td>271330494.0</td>\n",
       "      <td>9.369017e+08</td>\n",
       "      <td>6.328716e+08</td>\n",
       "      <td>665571206</td>\n",
       "    </tr>\n",
       "    <tr>\n",
       "      <th>1929</th>\n",
       "      <td>Tangled</td>\n",
       "      <td>2010</td>\n",
       "      <td>100.0</td>\n",
       "      <td>2.865684</td>\n",
       "      <td>260000000.0</td>\n",
       "      <td>5.917949e+08</td>\n",
       "      <td>260000000.0</td>\n",
       "      <td>5.917949e+08</td>\n",
       "      <td>3.317949e+08</td>\n",
       "      <td>331794936</td>\n",
       "    </tr>\n",
       "    <tr>\n",
       "      <th>14</th>\n",
       "      <td>Avengers: Age of Ultron</td>\n",
       "      <td>2015</td>\n",
       "      <td>141.0</td>\n",
       "      <td>5.944927</td>\n",
       "      <td>280000000.0</td>\n",
       "      <td>1.405036e+09</td>\n",
       "      <td>257599886.0</td>\n",
       "      <td>1.292632e+09</td>\n",
       "      <td>1.125036e+09</td>\n",
       "      <td>1035032450</td>\n",
       "    </tr>\n",
       "    <tr>\n",
       "      <th>1389</th>\n",
       "      <td>Harry Potter and the Half-Blood Prince</td>\n",
       "      <td>2009</td>\n",
       "      <td>153.0</td>\n",
       "      <td>5.076472</td>\n",
       "      <td>250000000.0</td>\n",
       "      <td>9.339592e+08</td>\n",
       "      <td>254100108.0</td>\n",
       "      <td>9.492765e+08</td>\n",
       "      <td>6.839592e+08</td>\n",
       "      <td>695176425</td>\n",
       "    </tr>\n",
       "    <tr>\n",
       "      <th>8089</th>\n",
       "      <td>Waterworld</td>\n",
       "      <td>1995</td>\n",
       "      <td>135.0</td>\n",
       "      <td>1.232098</td>\n",
       "      <td>175000000.0</td>\n",
       "      <td>2.642182e+08</td>\n",
       "      <td>250419201.0</td>\n",
       "      <td>3.780875e+08</td>\n",
       "      <td>8.921822e+07</td>\n",
       "      <td>127668317</td>\n",
       "    </tr>\n",
       "  </tbody>\n",
       "</table>\n",
       "</div>"
      ],
      "text/plain": [
       "                                   original_title  release_year  runtime  \\\n",
       "2244                            The Warrior's Way          2010    100.0   \n",
       "3375  Pirates of the Caribbean: On Stranger Tides          2011    136.0   \n",
       "7387     Pirates of the Caribbean: At World's End          2007    169.0   \n",
       "6570                             Superman Returns          2006    154.0   \n",
       "5231                                      Titanic          1997    194.0   \n",
       "7394                                 Spider-Man 3          2007    139.0   \n",
       "1929                                      Tangled          2010    100.0   \n",
       "14                        Avengers: Age of Ultron          2015    141.0   \n",
       "1389       Harry Potter and the Half-Blood Prince          2009    153.0   \n",
       "8089                                   Waterworld          1995    135.0   \n",
       "\n",
       "      popularity       budget       revenue   budget_adj   revenue_adj  \\\n",
       "2244    0.250540  425000000.0  1.108757e+07  425000000.0  1.108757e+07   \n",
       "3375    4.955130  380000000.0  1.021683e+09  368371256.0  9.904175e+08   \n",
       "7387    4.965391  300000000.0  9.610000e+08  315500574.0  1.010654e+09   \n",
       "6570    1.957331  270000000.0  3.910812e+08  292050672.0  4.230205e+08   \n",
       "5231    4.355219  200000000.0  1.845034e+09  271692064.0  2.506406e+09   \n",
       "7394    2.520912  258000000.0  8.908716e+08  271330494.0  9.369017e+08   \n",
       "1929    2.865684  260000000.0  5.917949e+08  260000000.0  5.917949e+08   \n",
       "14      5.944927  280000000.0  1.405036e+09  257599886.0  1.292632e+09   \n",
       "1389    5.076472  250000000.0  9.339592e+08  254100108.0  9.492765e+08   \n",
       "8089    1.232098  175000000.0  2.642182e+08  250419201.0  3.780875e+08   \n",
       "\n",
       "            profit  profit_adj  \n",
       "2244 -4.139124e+08  -413912431  \n",
       "3375  6.416830e+08   622046244  \n",
       "7387  6.610000e+08   695152933  \n",
       "6570  1.210812e+08   130969791  \n",
       "5231  1.645034e+09  2234713671  \n",
       "7394  6.328716e+08   665571206  \n",
       "1929  3.317949e+08   331794936  \n",
       "14    1.125036e+09  1035032450  \n",
       "1389  6.839592e+08   695176425  \n",
       "8089  8.921822e+07   127668317  "
      ]
     },
     "execution_count": 32,
     "metadata": {},
     "output_type": "execute_result"
    }
   ],
   "source": [
    "# In terms of inflation adjusted value, what are the top 10 movies with the highest production budget?\n",
    "\n",
    "df.loc[df.budget_adj.sort_values(ascending=False).head(10).index,cols_required]"
   ]
  },
  {
   "cell_type": "markdown",
   "metadata": {},
   "source": [
    "> ***Observation: it can be seen that when considering inflation adjusted budget, the top 10 movies was diffferent from the top 10 movies we observed when considering the actual value of the budget***\n",
    "\n",
    "> ***Movies like \"Waterworld\" and \"Titanic\" displaced \"John Carter\" and \"The Lone Ranger\" seen in the previous result***\n",
    "\n",
    "> ***From the result, we can see the effect on inflation of the budget values***"
   ]
  },
  {
   "cell_type": "code",
   "execution_count": 33,
   "metadata": {},
   "outputs": [
    {
     "data": {
      "text/html": [
       "<div>\n",
       "<style scoped>\n",
       "    .dataframe tbody tr th:only-of-type {\n",
       "        vertical-align: middle;\n",
       "    }\n",
       "\n",
       "    .dataframe tbody tr th {\n",
       "        vertical-align: top;\n",
       "    }\n",
       "\n",
       "    .dataframe thead th {\n",
       "        text-align: right;\n",
       "    }\n",
       "</style>\n",
       "<table border=\"1\" class=\"dataframe\">\n",
       "  <thead>\n",
       "    <tr style=\"text-align: right;\">\n",
       "      <th></th>\n",
       "      <th>original_title</th>\n",
       "      <th>release_year</th>\n",
       "      <th>runtime</th>\n",
       "      <th>popularity</th>\n",
       "      <th>budget</th>\n",
       "      <th>revenue</th>\n",
       "      <th>budget_adj</th>\n",
       "      <th>revenue_adj</th>\n",
       "      <th>profit</th>\n",
       "      <th>profit_adj</th>\n",
       "    </tr>\n",
       "  </thead>\n",
       "  <tbody>\n",
       "    <tr>\n",
       "      <th>1386</th>\n",
       "      <td>Avatar</td>\n",
       "      <td>2009</td>\n",
       "      <td>162.0</td>\n",
       "      <td>9.432768</td>\n",
       "      <td>237000000.0</td>\n",
       "      <td>2.781506e+09</td>\n",
       "      <td>240886902.0</td>\n",
       "      <td>2.827124e+09</td>\n",
       "      <td>2.544506e+09</td>\n",
       "      <td>2586236848</td>\n",
       "    </tr>\n",
       "    <tr>\n",
       "      <th>3</th>\n",
       "      <td>Star Wars: The Force Awakens</td>\n",
       "      <td>2015</td>\n",
       "      <td>136.0</td>\n",
       "      <td>11.173104</td>\n",
       "      <td>200000000.0</td>\n",
       "      <td>2.068178e+09</td>\n",
       "      <td>183999919.0</td>\n",
       "      <td>1.902723e+09</td>\n",
       "      <td>1.868178e+09</td>\n",
       "      <td>1718723210</td>\n",
       "    </tr>\n",
       "    <tr>\n",
       "      <th>5231</th>\n",
       "      <td>Titanic</td>\n",
       "      <td>1997</td>\n",
       "      <td>194.0</td>\n",
       "      <td>4.355219</td>\n",
       "      <td>200000000.0</td>\n",
       "      <td>1.845034e+09</td>\n",
       "      <td>271692064.0</td>\n",
       "      <td>2.506406e+09</td>\n",
       "      <td>1.645034e+09</td>\n",
       "      <td>2234713671</td>\n",
       "    </tr>\n",
       "    <tr>\n",
       "      <th>4361</th>\n",
       "      <td>The Avengers</td>\n",
       "      <td>2012</td>\n",
       "      <td>143.0</td>\n",
       "      <td>7.637767</td>\n",
       "      <td>220000000.0</td>\n",
       "      <td>1.519558e+09</td>\n",
       "      <td>208943741.0</td>\n",
       "      <td>1.443191e+09</td>\n",
       "      <td>1.299558e+09</td>\n",
       "      <td>1234247694</td>\n",
       "    </tr>\n",
       "    <tr>\n",
       "      <th>0</th>\n",
       "      <td>Jurassic World</td>\n",
       "      <td>2015</td>\n",
       "      <td>124.0</td>\n",
       "      <td>32.985763</td>\n",
       "      <td>150000000.0</td>\n",
       "      <td>1.513529e+09</td>\n",
       "      <td>137999939.0</td>\n",
       "      <td>1.392446e+09</td>\n",
       "      <td>1.363529e+09</td>\n",
       "      <td>1254445953</td>\n",
       "    </tr>\n",
       "    <tr>\n",
       "      <th>4</th>\n",
       "      <td>Furious 7</td>\n",
       "      <td>2015</td>\n",
       "      <td>137.0</td>\n",
       "      <td>9.335014</td>\n",
       "      <td>190000000.0</td>\n",
       "      <td>1.506249e+09</td>\n",
       "      <td>174799923.0</td>\n",
       "      <td>1.385749e+09</td>\n",
       "      <td>1.316249e+09</td>\n",
       "      <td>1210948878</td>\n",
       "    </tr>\n",
       "    <tr>\n",
       "      <th>14</th>\n",
       "      <td>Avengers: Age of Ultron</td>\n",
       "      <td>2015</td>\n",
       "      <td>141.0</td>\n",
       "      <td>5.944927</td>\n",
       "      <td>280000000.0</td>\n",
       "      <td>1.405036e+09</td>\n",
       "      <td>257599886.0</td>\n",
       "      <td>1.292632e+09</td>\n",
       "      <td>1.125036e+09</td>\n",
       "      <td>1035032450</td>\n",
       "    </tr>\n",
       "    <tr>\n",
       "      <th>3374</th>\n",
       "      <td>Harry Potter and the Deathly Hallows: Part 2</td>\n",
       "      <td>2011</td>\n",
       "      <td>130.0</td>\n",
       "      <td>5.711315</td>\n",
       "      <td>125000000.0</td>\n",
       "      <td>1.327818e+09</td>\n",
       "      <td>121174755.0</td>\n",
       "      <td>1.287184e+09</td>\n",
       "      <td>1.202818e+09</td>\n",
       "      <td>1166009242</td>\n",
       "    </tr>\n",
       "    <tr>\n",
       "      <th>5422</th>\n",
       "      <td>Frozen</td>\n",
       "      <td>2013</td>\n",
       "      <td>102.0</td>\n",
       "      <td>6.112766</td>\n",
       "      <td>150000000.0</td>\n",
       "      <td>1.274219e+09</td>\n",
       "      <td>140405002.0</td>\n",
       "      <td>1.192711e+09</td>\n",
       "      <td>1.124219e+09</td>\n",
       "      <td>1052306489</td>\n",
       "    </tr>\n",
       "    <tr>\n",
       "      <th>5425</th>\n",
       "      <td>Iron Man 3</td>\n",
       "      <td>2013</td>\n",
       "      <td>130.0</td>\n",
       "      <td>4.946136</td>\n",
       "      <td>200000000.0</td>\n",
       "      <td>1.215440e+09</td>\n",
       "      <td>187206670.0</td>\n",
       "      <td>1.137692e+09</td>\n",
       "      <td>1.015440e+09</td>\n",
       "      <td>950485702</td>\n",
       "    </tr>\n",
       "  </tbody>\n",
       "</table>\n",
       "</div>"
      ],
      "text/plain": [
       "                                    original_title  release_year  runtime  \\\n",
       "1386                                        Avatar          2009    162.0   \n",
       "3                     Star Wars: The Force Awakens          2015    136.0   \n",
       "5231                                       Titanic          1997    194.0   \n",
       "4361                                  The Avengers          2012    143.0   \n",
       "0                                   Jurassic World          2015    124.0   \n",
       "4                                        Furious 7          2015    137.0   \n",
       "14                         Avengers: Age of Ultron          2015    141.0   \n",
       "3374  Harry Potter and the Deathly Hallows: Part 2          2011    130.0   \n",
       "5422                                        Frozen          2013    102.0   \n",
       "5425                                    Iron Man 3          2013    130.0   \n",
       "\n",
       "      popularity       budget       revenue   budget_adj   revenue_adj  \\\n",
       "1386    9.432768  237000000.0  2.781506e+09  240886902.0  2.827124e+09   \n",
       "3      11.173104  200000000.0  2.068178e+09  183999919.0  1.902723e+09   \n",
       "5231    4.355219  200000000.0  1.845034e+09  271692064.0  2.506406e+09   \n",
       "4361    7.637767  220000000.0  1.519558e+09  208943741.0  1.443191e+09   \n",
       "0      32.985763  150000000.0  1.513529e+09  137999939.0  1.392446e+09   \n",
       "4       9.335014  190000000.0  1.506249e+09  174799923.0  1.385749e+09   \n",
       "14      5.944927  280000000.0  1.405036e+09  257599886.0  1.292632e+09   \n",
       "3374    5.711315  125000000.0  1.327818e+09  121174755.0  1.287184e+09   \n",
       "5422    6.112766  150000000.0  1.274219e+09  140405002.0  1.192711e+09   \n",
       "5425    4.946136  200000000.0  1.215440e+09  187206670.0  1.137692e+09   \n",
       "\n",
       "            profit  profit_adj  \n",
       "1386  2.544506e+09  2586236848  \n",
       "3     1.868178e+09  1718723210  \n",
       "5231  1.645034e+09  2234713671  \n",
       "4361  1.299558e+09  1234247694  \n",
       "0     1.363529e+09  1254445953  \n",
       "4     1.316249e+09  1210948878  \n",
       "14    1.125036e+09  1035032450  \n",
       "3374  1.202818e+09  1166009242  \n",
       "5422  1.124219e+09  1052306489  \n",
       "5425  1.015440e+09   950485702  "
      ]
     },
     "execution_count": 33,
     "metadata": {},
     "output_type": "execute_result"
    }
   ],
   "source": [
    "# In terms of actual value, what are the top 10 highest gross earning movies?\n",
    "\n",
    "df.loc[df.revenue.sort_values(ascending=False).head(10).index, cols_required]"
   ]
  },
  {
   "cell_type": "markdown",
   "metadata": {},
   "source": [
    "> ***Observations: The movies above can be seen to be the top 10 movies with the highest gross earnings or revenue when inflation adjustment is not considered*** "
   ]
  },
  {
   "cell_type": "code",
   "execution_count": 34,
   "metadata": {},
   "outputs": [
    {
     "data": {
      "text/html": [
       "<div>\n",
       "<style scoped>\n",
       "    .dataframe tbody tr th:only-of-type {\n",
       "        vertical-align: middle;\n",
       "    }\n",
       "\n",
       "    .dataframe tbody tr th {\n",
       "        vertical-align: top;\n",
       "    }\n",
       "\n",
       "    .dataframe thead th {\n",
       "        text-align: right;\n",
       "    }\n",
       "</style>\n",
       "<table border=\"1\" class=\"dataframe\">\n",
       "  <thead>\n",
       "    <tr style=\"text-align: right;\">\n",
       "      <th></th>\n",
       "      <th>original_title</th>\n",
       "      <th>release_year</th>\n",
       "      <th>runtime</th>\n",
       "      <th>popularity</th>\n",
       "      <th>budget</th>\n",
       "      <th>revenue</th>\n",
       "      <th>budget_adj</th>\n",
       "      <th>revenue_adj</th>\n",
       "      <th>profit</th>\n",
       "      <th>profit_adj</th>\n",
       "    </tr>\n",
       "  </thead>\n",
       "  <tbody>\n",
       "    <tr>\n",
       "      <th>1386</th>\n",
       "      <td>Avatar</td>\n",
       "      <td>2009</td>\n",
       "      <td>162.0</td>\n",
       "      <td>9.432768</td>\n",
       "      <td>237000000.0</td>\n",
       "      <td>2.781506e+09</td>\n",
       "      <td>240886902.0</td>\n",
       "      <td>2.827124e+09</td>\n",
       "      <td>2.544506e+09</td>\n",
       "      <td>2586236848</td>\n",
       "    </tr>\n",
       "    <tr>\n",
       "      <th>1329</th>\n",
       "      <td>Star Wars</td>\n",
       "      <td>1977</td>\n",
       "      <td>121.0</td>\n",
       "      <td>12.037933</td>\n",
       "      <td>11000000.0</td>\n",
       "      <td>7.753980e+08</td>\n",
       "      <td>39575591.0</td>\n",
       "      <td>2.789712e+09</td>\n",
       "      <td>7.643980e+08</td>\n",
       "      <td>2750136651</td>\n",
       "    </tr>\n",
       "    <tr>\n",
       "      <th>5231</th>\n",
       "      <td>Titanic</td>\n",
       "      <td>1997</td>\n",
       "      <td>194.0</td>\n",
       "      <td>4.355219</td>\n",
       "      <td>200000000.0</td>\n",
       "      <td>1.845034e+09</td>\n",
       "      <td>271692064.0</td>\n",
       "      <td>2.506406e+09</td>\n",
       "      <td>1.645034e+09</td>\n",
       "      <td>2234713671</td>\n",
       "    </tr>\n",
       "    <tr>\n",
       "      <th>10594</th>\n",
       "      <td>The Exorcist</td>\n",
       "      <td>1973</td>\n",
       "      <td>122.0</td>\n",
       "      <td>2.010733</td>\n",
       "      <td>8000000.0</td>\n",
       "      <td>4.413061e+08</td>\n",
       "      <td>39289276.0</td>\n",
       "      <td>2.167325e+09</td>\n",
       "      <td>4.333061e+08</td>\n",
       "      <td>2128035625</td>\n",
       "    </tr>\n",
       "    <tr>\n",
       "      <th>9806</th>\n",
       "      <td>Jaws</td>\n",
       "      <td>1975</td>\n",
       "      <td>124.0</td>\n",
       "      <td>2.563191</td>\n",
       "      <td>7000000.0</td>\n",
       "      <td>4.706540e+08</td>\n",
       "      <td>28362748.0</td>\n",
       "      <td>1.907006e+09</td>\n",
       "      <td>4.636540e+08</td>\n",
       "      <td>1878643093</td>\n",
       "    </tr>\n",
       "    <tr>\n",
       "      <th>3</th>\n",
       "      <td>Star Wars: The Force Awakens</td>\n",
       "      <td>2015</td>\n",
       "      <td>136.0</td>\n",
       "      <td>11.173104</td>\n",
       "      <td>200000000.0</td>\n",
       "      <td>2.068178e+09</td>\n",
       "      <td>183999919.0</td>\n",
       "      <td>1.902723e+09</td>\n",
       "      <td>1.868178e+09</td>\n",
       "      <td>1718723210</td>\n",
       "    </tr>\n",
       "    <tr>\n",
       "      <th>8889</th>\n",
       "      <td>E.T. the Extra-Terrestrial</td>\n",
       "      <td>1982</td>\n",
       "      <td>115.0</td>\n",
       "      <td>2.900556</td>\n",
       "      <td>10500000.0</td>\n",
       "      <td>7.929106e+08</td>\n",
       "      <td>23726245.0</td>\n",
       "      <td>1.791694e+09</td>\n",
       "      <td>7.824106e+08</td>\n",
       "      <td>1767968064</td>\n",
       "    </tr>\n",
       "    <tr>\n",
       "      <th>8094</th>\n",
       "      <td>The Net</td>\n",
       "      <td>1995</td>\n",
       "      <td>114.0</td>\n",
       "      <td>1.136610</td>\n",
       "      <td>22000000.0</td>\n",
       "      <td>1.106280e+09</td>\n",
       "      <td>31481271.0</td>\n",
       "      <td>1.583050e+09</td>\n",
       "      <td>1.084280e+09</td>\n",
       "      <td>1551568265</td>\n",
       "    </tr>\n",
       "    <tr>\n",
       "      <th>10110</th>\n",
       "      <td>One Hundred and One Dalmatians</td>\n",
       "      <td>1961</td>\n",
       "      <td>79.0</td>\n",
       "      <td>2.631987</td>\n",
       "      <td>4000000.0</td>\n",
       "      <td>2.158800e+08</td>\n",
       "      <td>29179444.0</td>\n",
       "      <td>1.574815e+09</td>\n",
       "      <td>2.118800e+08</td>\n",
       "      <td>1545635295</td>\n",
       "    </tr>\n",
       "    <tr>\n",
       "      <th>4361</th>\n",
       "      <td>The Avengers</td>\n",
       "      <td>2012</td>\n",
       "      <td>143.0</td>\n",
       "      <td>7.637767</td>\n",
       "      <td>220000000.0</td>\n",
       "      <td>1.519558e+09</td>\n",
       "      <td>208943741.0</td>\n",
       "      <td>1.443191e+09</td>\n",
       "      <td>1.299558e+09</td>\n",
       "      <td>1234247694</td>\n",
       "    </tr>\n",
       "  </tbody>\n",
       "</table>\n",
       "</div>"
      ],
      "text/plain": [
       "                       original_title  release_year  runtime  popularity  \\\n",
       "1386                           Avatar          2009    162.0    9.432768   \n",
       "1329                        Star Wars          1977    121.0   12.037933   \n",
       "5231                          Titanic          1997    194.0    4.355219   \n",
       "10594                    The Exorcist          1973    122.0    2.010733   \n",
       "9806                             Jaws          1975    124.0    2.563191   \n",
       "3        Star Wars: The Force Awakens          2015    136.0   11.173104   \n",
       "8889       E.T. the Extra-Terrestrial          1982    115.0    2.900556   \n",
       "8094                          The Net          1995    114.0    1.136610   \n",
       "10110  One Hundred and One Dalmatians          1961     79.0    2.631987   \n",
       "4361                     The Avengers          2012    143.0    7.637767   \n",
       "\n",
       "            budget       revenue   budget_adj   revenue_adj        profit  \\\n",
       "1386   237000000.0  2.781506e+09  240886902.0  2.827124e+09  2.544506e+09   \n",
       "1329    11000000.0  7.753980e+08   39575591.0  2.789712e+09  7.643980e+08   \n",
       "5231   200000000.0  1.845034e+09  271692064.0  2.506406e+09  1.645034e+09   \n",
       "10594    8000000.0  4.413061e+08   39289276.0  2.167325e+09  4.333061e+08   \n",
       "9806     7000000.0  4.706540e+08   28362748.0  1.907006e+09  4.636540e+08   \n",
       "3      200000000.0  2.068178e+09  183999919.0  1.902723e+09  1.868178e+09   \n",
       "8889    10500000.0  7.929106e+08   23726245.0  1.791694e+09  7.824106e+08   \n",
       "8094    22000000.0  1.106280e+09   31481271.0  1.583050e+09  1.084280e+09   \n",
       "10110    4000000.0  2.158800e+08   29179444.0  1.574815e+09  2.118800e+08   \n",
       "4361   220000000.0  1.519558e+09  208943741.0  1.443191e+09  1.299558e+09   \n",
       "\n",
       "       profit_adj  \n",
       "1386   2586236848  \n",
       "1329   2750136651  \n",
       "5231   2234713671  \n",
       "10594  2128035625  \n",
       "9806   1878643093  \n",
       "3      1718723210  \n",
       "8889   1767968064  \n",
       "8094   1551568265  \n",
       "10110  1545635295  \n",
       "4361   1234247694  "
      ]
     },
     "execution_count": 34,
     "metadata": {},
     "output_type": "execute_result"
    }
   ],
   "source": [
    "# In terms of inflation adjusted value, what are the top 10 highest gross earning movies?\n",
    "\n",
    "df.loc[df.revenue_adj.sort_values(ascending=False).head(10).index, cols_required]"
   ]
  },
  {
   "cell_type": "markdown",
   "metadata": {},
   "source": [
    "> ***Observation: When considering inflation adjusted revenue, the difference between the inflated adjusted revenue and actual revenue is much prominent as it can be seen in the movies that appeared in top 10 in both categories ***\n",
    "\n",
    "> ***Movies like \"StarWar\", \"The Exorcist\", \"Jaws\", \"E.T - The Extra Terrestial\", \"The Net\" and \"One Hundred and One Dalmatians\" displaced \"Jurrassic World\", \"Furious 7\", \"Harry Porter and The Deadly Harrows: Part 2, \"Frozen\" and \"Iron Man 3\" seen in the previous result**\n",
    "\n",
    "> ***From the result, we can see the huge effect on inflation of the budget values***"
   ]
  },
  {
   "cell_type": "code",
   "execution_count": 35,
   "metadata": {},
   "outputs": [
    {
     "data": {
      "text/html": [
       "<div>\n",
       "<style scoped>\n",
       "    .dataframe tbody tr th:only-of-type {\n",
       "        vertical-align: middle;\n",
       "    }\n",
       "\n",
       "    .dataframe tbody tr th {\n",
       "        vertical-align: top;\n",
       "    }\n",
       "\n",
       "    .dataframe thead th {\n",
       "        text-align: right;\n",
       "    }\n",
       "</style>\n",
       "<table border=\"1\" class=\"dataframe\">\n",
       "  <thead>\n",
       "    <tr style=\"text-align: right;\">\n",
       "      <th></th>\n",
       "      <th>original_title</th>\n",
       "      <th>release_year</th>\n",
       "      <th>runtime</th>\n",
       "      <th>popularity</th>\n",
       "      <th>budget</th>\n",
       "      <th>revenue</th>\n",
       "      <th>budget_adj</th>\n",
       "      <th>revenue_adj</th>\n",
       "      <th>profit</th>\n",
       "      <th>profit_adj</th>\n",
       "    </tr>\n",
       "  </thead>\n",
       "  <tbody>\n",
       "    <tr>\n",
       "      <th>1386</th>\n",
       "      <td>Avatar</td>\n",
       "      <td>2009</td>\n",
       "      <td>162.0</td>\n",
       "      <td>9.432768</td>\n",
       "      <td>237000000.0</td>\n",
       "      <td>2.781506e+09</td>\n",
       "      <td>240886902.0</td>\n",
       "      <td>2.827124e+09</td>\n",
       "      <td>2.544506e+09</td>\n",
       "      <td>2586236848</td>\n",
       "    </tr>\n",
       "    <tr>\n",
       "      <th>3</th>\n",
       "      <td>Star Wars: The Force Awakens</td>\n",
       "      <td>2015</td>\n",
       "      <td>136.0</td>\n",
       "      <td>11.173104</td>\n",
       "      <td>200000000.0</td>\n",
       "      <td>2.068178e+09</td>\n",
       "      <td>183999919.0</td>\n",
       "      <td>1.902723e+09</td>\n",
       "      <td>1.868178e+09</td>\n",
       "      <td>1718723210</td>\n",
       "    </tr>\n",
       "    <tr>\n",
       "      <th>5231</th>\n",
       "      <td>Titanic</td>\n",
       "      <td>1997</td>\n",
       "      <td>194.0</td>\n",
       "      <td>4.355219</td>\n",
       "      <td>200000000.0</td>\n",
       "      <td>1.845034e+09</td>\n",
       "      <td>271692064.0</td>\n",
       "      <td>2.506406e+09</td>\n",
       "      <td>1.645034e+09</td>\n",
       "      <td>2234713671</td>\n",
       "    </tr>\n",
       "    <tr>\n",
       "      <th>0</th>\n",
       "      <td>Jurassic World</td>\n",
       "      <td>2015</td>\n",
       "      <td>124.0</td>\n",
       "      <td>32.985763</td>\n",
       "      <td>150000000.0</td>\n",
       "      <td>1.513529e+09</td>\n",
       "      <td>137999939.0</td>\n",
       "      <td>1.392446e+09</td>\n",
       "      <td>1.363529e+09</td>\n",
       "      <td>1254445953</td>\n",
       "    </tr>\n",
       "    <tr>\n",
       "      <th>4</th>\n",
       "      <td>Furious 7</td>\n",
       "      <td>2015</td>\n",
       "      <td>137.0</td>\n",
       "      <td>9.335014</td>\n",
       "      <td>190000000.0</td>\n",
       "      <td>1.506249e+09</td>\n",
       "      <td>174799923.0</td>\n",
       "      <td>1.385749e+09</td>\n",
       "      <td>1.316249e+09</td>\n",
       "      <td>1210948878</td>\n",
       "    </tr>\n",
       "    <tr>\n",
       "      <th>4361</th>\n",
       "      <td>The Avengers</td>\n",
       "      <td>2012</td>\n",
       "      <td>143.0</td>\n",
       "      <td>7.637767</td>\n",
       "      <td>220000000.0</td>\n",
       "      <td>1.519558e+09</td>\n",
       "      <td>208943741.0</td>\n",
       "      <td>1.443191e+09</td>\n",
       "      <td>1.299558e+09</td>\n",
       "      <td>1234247694</td>\n",
       "    </tr>\n",
       "    <tr>\n",
       "      <th>3374</th>\n",
       "      <td>Harry Potter and the Deathly Hallows: Part 2</td>\n",
       "      <td>2011</td>\n",
       "      <td>130.0</td>\n",
       "      <td>5.711315</td>\n",
       "      <td>125000000.0</td>\n",
       "      <td>1.327818e+09</td>\n",
       "      <td>121174755.0</td>\n",
       "      <td>1.287184e+09</td>\n",
       "      <td>1.202818e+09</td>\n",
       "      <td>1166009242</td>\n",
       "    </tr>\n",
       "    <tr>\n",
       "      <th>14</th>\n",
       "      <td>Avengers: Age of Ultron</td>\n",
       "      <td>2015</td>\n",
       "      <td>141.0</td>\n",
       "      <td>5.944927</td>\n",
       "      <td>280000000.0</td>\n",
       "      <td>1.405036e+09</td>\n",
       "      <td>257599886.0</td>\n",
       "      <td>1.292632e+09</td>\n",
       "      <td>1.125036e+09</td>\n",
       "      <td>1035032450</td>\n",
       "    </tr>\n",
       "    <tr>\n",
       "      <th>5422</th>\n",
       "      <td>Frozen</td>\n",
       "      <td>2013</td>\n",
       "      <td>102.0</td>\n",
       "      <td>6.112766</td>\n",
       "      <td>150000000.0</td>\n",
       "      <td>1.274219e+09</td>\n",
       "      <td>140405002.0</td>\n",
       "      <td>1.192711e+09</td>\n",
       "      <td>1.124219e+09</td>\n",
       "      <td>1052306489</td>\n",
       "    </tr>\n",
       "    <tr>\n",
       "      <th>8094</th>\n",
       "      <td>The Net</td>\n",
       "      <td>1995</td>\n",
       "      <td>114.0</td>\n",
       "      <td>1.136610</td>\n",
       "      <td>22000000.0</td>\n",
       "      <td>1.106280e+09</td>\n",
       "      <td>31481271.0</td>\n",
       "      <td>1.583050e+09</td>\n",
       "      <td>1.084280e+09</td>\n",
       "      <td>1551568265</td>\n",
       "    </tr>\n",
       "  </tbody>\n",
       "</table>\n",
       "</div>"
      ],
      "text/plain": [
       "                                    original_title  release_year  runtime  \\\n",
       "1386                                        Avatar          2009    162.0   \n",
       "3                     Star Wars: The Force Awakens          2015    136.0   \n",
       "5231                                       Titanic          1997    194.0   \n",
       "0                                   Jurassic World          2015    124.0   \n",
       "4                                        Furious 7          2015    137.0   \n",
       "4361                                  The Avengers          2012    143.0   \n",
       "3374  Harry Potter and the Deathly Hallows: Part 2          2011    130.0   \n",
       "14                         Avengers: Age of Ultron          2015    141.0   \n",
       "5422                                        Frozen          2013    102.0   \n",
       "8094                                       The Net          1995    114.0   \n",
       "\n",
       "      popularity       budget       revenue   budget_adj   revenue_adj  \\\n",
       "1386    9.432768  237000000.0  2.781506e+09  240886902.0  2.827124e+09   \n",
       "3      11.173104  200000000.0  2.068178e+09  183999919.0  1.902723e+09   \n",
       "5231    4.355219  200000000.0  1.845034e+09  271692064.0  2.506406e+09   \n",
       "0      32.985763  150000000.0  1.513529e+09  137999939.0  1.392446e+09   \n",
       "4       9.335014  190000000.0  1.506249e+09  174799923.0  1.385749e+09   \n",
       "4361    7.637767  220000000.0  1.519558e+09  208943741.0  1.443191e+09   \n",
       "3374    5.711315  125000000.0  1.327818e+09  121174755.0  1.287184e+09   \n",
       "14      5.944927  280000000.0  1.405036e+09  257599886.0  1.292632e+09   \n",
       "5422    6.112766  150000000.0  1.274219e+09  140405002.0  1.192711e+09   \n",
       "8094    1.136610   22000000.0  1.106280e+09   31481271.0  1.583050e+09   \n",
       "\n",
       "            profit  profit_adj  \n",
       "1386  2.544506e+09  2586236848  \n",
       "3     1.868178e+09  1718723210  \n",
       "5231  1.645034e+09  2234713671  \n",
       "0     1.363529e+09  1254445953  \n",
       "4     1.316249e+09  1210948878  \n",
       "4361  1.299558e+09  1234247694  \n",
       "3374  1.202818e+09  1166009242  \n",
       "14    1.125036e+09  1035032450  \n",
       "5422  1.124219e+09  1052306489  \n",
       "8094  1.084280e+09  1551568265  "
      ]
     },
     "execution_count": 35,
     "metadata": {},
     "output_type": "execute_result"
    }
   ],
   "source": [
    "# In terms of actual value, what are the top 10 most profitable movies?\n",
    "\n",
    "df.loc[df.profit.sort_values(ascending=False).head(10).index,cols_required]"
   ]
  },
  {
   "cell_type": "markdown",
   "metadata": {},
   "source": [
    "> ***Observations: The movies above can be seen to be the top 10 profitable movies when inflation adjustment is not considered*** \n",
    "\n",
    "> ***It can be seen that same movies that appeared in top revenue table when inflation adjustment is not considered are the same movies that appeared in top 10 profitable movies when inlfation adjustment is not considered except for \"Iron Man 3\" which was replaced by \"The Net\" which appeared on the top 10 movies with highest revenue when inflation adjustment is considered*** "
   ]
  },
  {
   "cell_type": "code",
   "execution_count": 36,
   "metadata": {},
   "outputs": [
    {
     "data": {
      "text/html": [
       "<div>\n",
       "<style scoped>\n",
       "    .dataframe tbody tr th:only-of-type {\n",
       "        vertical-align: middle;\n",
       "    }\n",
       "\n",
       "    .dataframe tbody tr th {\n",
       "        vertical-align: top;\n",
       "    }\n",
       "\n",
       "    .dataframe thead th {\n",
       "        text-align: right;\n",
       "    }\n",
       "</style>\n",
       "<table border=\"1\" class=\"dataframe\">\n",
       "  <thead>\n",
       "    <tr style=\"text-align: right;\">\n",
       "      <th></th>\n",
       "      <th>original_title</th>\n",
       "      <th>release_year</th>\n",
       "      <th>runtime</th>\n",
       "      <th>popularity</th>\n",
       "      <th>budget</th>\n",
       "      <th>revenue</th>\n",
       "      <th>budget_adj</th>\n",
       "      <th>revenue_adj</th>\n",
       "      <th>profit</th>\n",
       "      <th>profit_adj</th>\n",
       "    </tr>\n",
       "  </thead>\n",
       "  <tbody>\n",
       "    <tr>\n",
       "      <th>1329</th>\n",
       "      <td>Star Wars</td>\n",
       "      <td>1977</td>\n",
       "      <td>121.0</td>\n",
       "      <td>12.037933</td>\n",
       "      <td>11000000.0</td>\n",
       "      <td>7.753980e+08</td>\n",
       "      <td>39575591.0</td>\n",
       "      <td>2.789712e+09</td>\n",
       "      <td>7.643980e+08</td>\n",
       "      <td>2750136651</td>\n",
       "    </tr>\n",
       "    <tr>\n",
       "      <th>1386</th>\n",
       "      <td>Avatar</td>\n",
       "      <td>2009</td>\n",
       "      <td>162.0</td>\n",
       "      <td>9.432768</td>\n",
       "      <td>237000000.0</td>\n",
       "      <td>2.781506e+09</td>\n",
       "      <td>240886902.0</td>\n",
       "      <td>2.827124e+09</td>\n",
       "      <td>2.544506e+09</td>\n",
       "      <td>2586236848</td>\n",
       "    </tr>\n",
       "    <tr>\n",
       "      <th>5231</th>\n",
       "      <td>Titanic</td>\n",
       "      <td>1997</td>\n",
       "      <td>194.0</td>\n",
       "      <td>4.355219</td>\n",
       "      <td>200000000.0</td>\n",
       "      <td>1.845034e+09</td>\n",
       "      <td>271692064.0</td>\n",
       "      <td>2.506406e+09</td>\n",
       "      <td>1.645034e+09</td>\n",
       "      <td>2234713671</td>\n",
       "    </tr>\n",
       "    <tr>\n",
       "      <th>10594</th>\n",
       "      <td>The Exorcist</td>\n",
       "      <td>1973</td>\n",
       "      <td>122.0</td>\n",
       "      <td>2.010733</td>\n",
       "      <td>8000000.0</td>\n",
       "      <td>4.413061e+08</td>\n",
       "      <td>39289276.0</td>\n",
       "      <td>2.167325e+09</td>\n",
       "      <td>4.333061e+08</td>\n",
       "      <td>2128035625</td>\n",
       "    </tr>\n",
       "    <tr>\n",
       "      <th>9806</th>\n",
       "      <td>Jaws</td>\n",
       "      <td>1975</td>\n",
       "      <td>124.0</td>\n",
       "      <td>2.563191</td>\n",
       "      <td>7000000.0</td>\n",
       "      <td>4.706540e+08</td>\n",
       "      <td>28362748.0</td>\n",
       "      <td>1.907006e+09</td>\n",
       "      <td>4.636540e+08</td>\n",
       "      <td>1878643093</td>\n",
       "    </tr>\n",
       "    <tr>\n",
       "      <th>8889</th>\n",
       "      <td>E.T. the Extra-Terrestrial</td>\n",
       "      <td>1982</td>\n",
       "      <td>115.0</td>\n",
       "      <td>2.900556</td>\n",
       "      <td>10500000.0</td>\n",
       "      <td>7.929106e+08</td>\n",
       "      <td>23726245.0</td>\n",
       "      <td>1.791694e+09</td>\n",
       "      <td>7.824106e+08</td>\n",
       "      <td>1767968064</td>\n",
       "    </tr>\n",
       "    <tr>\n",
       "      <th>3</th>\n",
       "      <td>Star Wars: The Force Awakens</td>\n",
       "      <td>2015</td>\n",
       "      <td>136.0</td>\n",
       "      <td>11.173104</td>\n",
       "      <td>200000000.0</td>\n",
       "      <td>2.068178e+09</td>\n",
       "      <td>183999919.0</td>\n",
       "      <td>1.902723e+09</td>\n",
       "      <td>1.868178e+09</td>\n",
       "      <td>1718723210</td>\n",
       "    </tr>\n",
       "    <tr>\n",
       "      <th>8094</th>\n",
       "      <td>The Net</td>\n",
       "      <td>1995</td>\n",
       "      <td>114.0</td>\n",
       "      <td>1.136610</td>\n",
       "      <td>22000000.0</td>\n",
       "      <td>1.106280e+09</td>\n",
       "      <td>31481271.0</td>\n",
       "      <td>1.583050e+09</td>\n",
       "      <td>1.084280e+09</td>\n",
       "      <td>1551568265</td>\n",
       "    </tr>\n",
       "    <tr>\n",
       "      <th>10110</th>\n",
       "      <td>One Hundred and One Dalmatians</td>\n",
       "      <td>1961</td>\n",
       "      <td>79.0</td>\n",
       "      <td>2.631987</td>\n",
       "      <td>4000000.0</td>\n",
       "      <td>2.158800e+08</td>\n",
       "      <td>29179444.0</td>\n",
       "      <td>1.574815e+09</td>\n",
       "      <td>2.118800e+08</td>\n",
       "      <td>1545635295</td>\n",
       "    </tr>\n",
       "    <tr>\n",
       "      <th>7309</th>\n",
       "      <td>The Empire Strikes Back</td>\n",
       "      <td>1980</td>\n",
       "      <td>124.0</td>\n",
       "      <td>5.488441</td>\n",
       "      <td>18000000.0</td>\n",
       "      <td>5.384000e+08</td>\n",
       "      <td>47628661.0</td>\n",
       "      <td>1.424626e+09</td>\n",
       "      <td>5.204000e+08</td>\n",
       "      <td>1376997526</td>\n",
       "    </tr>\n",
       "  </tbody>\n",
       "</table>\n",
       "</div>"
      ],
      "text/plain": [
       "                       original_title  release_year  runtime  popularity  \\\n",
       "1329                        Star Wars          1977    121.0   12.037933   \n",
       "1386                           Avatar          2009    162.0    9.432768   \n",
       "5231                          Titanic          1997    194.0    4.355219   \n",
       "10594                    The Exorcist          1973    122.0    2.010733   \n",
       "9806                             Jaws          1975    124.0    2.563191   \n",
       "8889       E.T. the Extra-Terrestrial          1982    115.0    2.900556   \n",
       "3        Star Wars: The Force Awakens          2015    136.0   11.173104   \n",
       "8094                          The Net          1995    114.0    1.136610   \n",
       "10110  One Hundred and One Dalmatians          1961     79.0    2.631987   \n",
       "7309          The Empire Strikes Back          1980    124.0    5.488441   \n",
       "\n",
       "            budget       revenue   budget_adj   revenue_adj        profit  \\\n",
       "1329    11000000.0  7.753980e+08   39575591.0  2.789712e+09  7.643980e+08   \n",
       "1386   237000000.0  2.781506e+09  240886902.0  2.827124e+09  2.544506e+09   \n",
       "5231   200000000.0  1.845034e+09  271692064.0  2.506406e+09  1.645034e+09   \n",
       "10594    8000000.0  4.413061e+08   39289276.0  2.167325e+09  4.333061e+08   \n",
       "9806     7000000.0  4.706540e+08   28362748.0  1.907006e+09  4.636540e+08   \n",
       "8889    10500000.0  7.929106e+08   23726245.0  1.791694e+09  7.824106e+08   \n",
       "3      200000000.0  2.068178e+09  183999919.0  1.902723e+09  1.868178e+09   \n",
       "8094    22000000.0  1.106280e+09   31481271.0  1.583050e+09  1.084280e+09   \n",
       "10110    4000000.0  2.158800e+08   29179444.0  1.574815e+09  2.118800e+08   \n",
       "7309    18000000.0  5.384000e+08   47628661.0  1.424626e+09  5.204000e+08   \n",
       "\n",
       "       profit_adj  \n",
       "1329   2750136651  \n",
       "1386   2586236848  \n",
       "5231   2234713671  \n",
       "10594  2128035625  \n",
       "9806   1878643093  \n",
       "8889   1767968064  \n",
       "3      1718723210  \n",
       "8094   1551568265  \n",
       "10110  1545635295  \n",
       "7309   1376997526  "
      ]
     },
     "execution_count": 36,
     "metadata": {},
     "output_type": "execute_result"
    }
   ],
   "source": [
    "# In terms of inflation adjusted value, what are the top 10 most profitable movies?\n",
    "\n",
    "df.loc[df.profit_adj.sort_values(ascending=False).head(10).index,cols_required]"
   ]
  },
  {
   "cell_type": "markdown",
   "metadata": {},
   "source": [
    "> ***Observations: The movies above can be seen to be the top 10 profitable movies when inflation adjustment is considered*** \n",
    "\n",
    "> ***It can be seen that same set of movies that appeared in top revenue table when inflation adjustment is considered are the same set of movies that appeared in top 10 profitable movies when inlfation adjustment is  considered except for \"The Empire Strikes Back\" which displaced by \"The Avenger\" which appeared on the top 10 movies with highest revenue when inflation adjustment is considered*** "
   ]
  },
  {
   "cell_type": "code",
   "execution_count": 37,
   "metadata": {
    "scrolled": false
   },
   "outputs": [
    {
     "data": {
      "text/html": [
       "<div>\n",
       "<style scoped>\n",
       "    .dataframe tbody tr th:only-of-type {\n",
       "        vertical-align: middle;\n",
       "    }\n",
       "\n",
       "    .dataframe tbody tr th {\n",
       "        vertical-align: top;\n",
       "    }\n",
       "\n",
       "    .dataframe thead th {\n",
       "        text-align: right;\n",
       "    }\n",
       "</style>\n",
       "<table border=\"1\" class=\"dataframe\">\n",
       "  <thead>\n",
       "    <tr style=\"text-align: right;\">\n",
       "      <th></th>\n",
       "      <th>original_title</th>\n",
       "      <th>release_year</th>\n",
       "      <th>runtime</th>\n",
       "      <th>popularity</th>\n",
       "      <th>budget</th>\n",
       "      <th>revenue</th>\n",
       "      <th>budget_adj</th>\n",
       "      <th>revenue_adj</th>\n",
       "      <th>profit</th>\n",
       "      <th>profit_adj</th>\n",
       "    </tr>\n",
       "  </thead>\n",
       "  <tbody>\n",
       "    <tr>\n",
       "      <th>0</th>\n",
       "      <td>Jurassic World</td>\n",
       "      <td>2015</td>\n",
       "      <td>124.0</td>\n",
       "      <td>32.985763</td>\n",
       "      <td>150000000.0</td>\n",
       "      <td>1.513529e+09</td>\n",
       "      <td>137999939.0</td>\n",
       "      <td>1.392446e+09</td>\n",
       "      <td>1.363529e+09</td>\n",
       "      <td>1254445953</td>\n",
       "    </tr>\n",
       "    <tr>\n",
       "      <th>1</th>\n",
       "      <td>Mad Max: Fury Road</td>\n",
       "      <td>2015</td>\n",
       "      <td>120.0</td>\n",
       "      <td>28.419936</td>\n",
       "      <td>150000000.0</td>\n",
       "      <td>3.784364e+08</td>\n",
       "      <td>137999939.0</td>\n",
       "      <td>3.481613e+08</td>\n",
       "      <td>2.284364e+08</td>\n",
       "      <td>210161353</td>\n",
       "    </tr>\n",
       "    <tr>\n",
       "      <th>629</th>\n",
       "      <td>Interstellar</td>\n",
       "      <td>2014</td>\n",
       "      <td>169.0</td>\n",
       "      <td>24.949134</td>\n",
       "      <td>165000000.0</td>\n",
       "      <td>6.217525e+08</td>\n",
       "      <td>151980023.0</td>\n",
       "      <td>5.726906e+08</td>\n",
       "      <td>4.567525e+08</td>\n",
       "      <td>420710622</td>\n",
       "    </tr>\n",
       "    <tr>\n",
       "      <th>630</th>\n",
       "      <td>Guardians of the Galaxy</td>\n",
       "      <td>2014</td>\n",
       "      <td>121.0</td>\n",
       "      <td>14.311205</td>\n",
       "      <td>170000000.0</td>\n",
       "      <td>7.733124e+08</td>\n",
       "      <td>156585478.0</td>\n",
       "      <td>7.122911e+08</td>\n",
       "      <td>6.033124e+08</td>\n",
       "      <td>555705652</td>\n",
       "    </tr>\n",
       "    <tr>\n",
       "      <th>2</th>\n",
       "      <td>Insurgent</td>\n",
       "      <td>2015</td>\n",
       "      <td>119.0</td>\n",
       "      <td>13.112507</td>\n",
       "      <td>110000000.0</td>\n",
       "      <td>2.952382e+08</td>\n",
       "      <td>101199955.0</td>\n",
       "      <td>2.716190e+08</td>\n",
       "      <td>1.852382e+08</td>\n",
       "      <td>170419070</td>\n",
       "    </tr>\n",
       "    <tr>\n",
       "      <th>631</th>\n",
       "      <td>Captain America: The Winter Soldier</td>\n",
       "      <td>2014</td>\n",
       "      <td>136.0</td>\n",
       "      <td>12.971027</td>\n",
       "      <td>170000000.0</td>\n",
       "      <td>7.147666e+08</td>\n",
       "      <td>156585478.0</td>\n",
       "      <td>6.583651e+08</td>\n",
       "      <td>5.447666e+08</td>\n",
       "      <td>501779614</td>\n",
       "    </tr>\n",
       "    <tr>\n",
       "      <th>1329</th>\n",
       "      <td>Star Wars</td>\n",
       "      <td>1977</td>\n",
       "      <td>121.0</td>\n",
       "      <td>12.037933</td>\n",
       "      <td>11000000.0</td>\n",
       "      <td>7.753980e+08</td>\n",
       "      <td>39575591.0</td>\n",
       "      <td>2.789712e+09</td>\n",
       "      <td>7.643980e+08</td>\n",
       "      <td>2750136651</td>\n",
       "    </tr>\n",
       "    <tr>\n",
       "      <th>632</th>\n",
       "      <td>John Wick</td>\n",
       "      <td>2014</td>\n",
       "      <td>101.0</td>\n",
       "      <td>11.422751</td>\n",
       "      <td>20000000.0</td>\n",
       "      <td>7.873990e+07</td>\n",
       "      <td>18421821.0</td>\n",
       "      <td>7.252661e+07</td>\n",
       "      <td>5.873990e+07</td>\n",
       "      <td>54104793</td>\n",
       "    </tr>\n",
       "    <tr>\n",
       "      <th>3</th>\n",
       "      <td>Star Wars: The Force Awakens</td>\n",
       "      <td>2015</td>\n",
       "      <td>136.0</td>\n",
       "      <td>11.173104</td>\n",
       "      <td>200000000.0</td>\n",
       "      <td>2.068178e+09</td>\n",
       "      <td>183999919.0</td>\n",
       "      <td>1.902723e+09</td>\n",
       "      <td>1.868178e+09</td>\n",
       "      <td>1718723210</td>\n",
       "    </tr>\n",
       "    <tr>\n",
       "      <th>633</th>\n",
       "      <td>The Hunger Games: Mockingjay - Part 1</td>\n",
       "      <td>2014</td>\n",
       "      <td>123.0</td>\n",
       "      <td>10.739009</td>\n",
       "      <td>125000000.0</td>\n",
       "      <td>7.521002e+08</td>\n",
       "      <td>115136381.0</td>\n",
       "      <td>6.927528e+08</td>\n",
       "      <td>6.271002e+08</td>\n",
       "      <td>577616409</td>\n",
       "    </tr>\n",
       "  </tbody>\n",
       "</table>\n",
       "</div>"
      ],
      "text/plain": [
       "                             original_title  release_year  runtime  \\\n",
       "0                            Jurassic World          2015    124.0   \n",
       "1                        Mad Max: Fury Road          2015    120.0   \n",
       "629                            Interstellar          2014    169.0   \n",
       "630                 Guardians of the Galaxy          2014    121.0   \n",
       "2                                 Insurgent          2015    119.0   \n",
       "631     Captain America: The Winter Soldier          2014    136.0   \n",
       "1329                              Star Wars          1977    121.0   \n",
       "632                               John Wick          2014    101.0   \n",
       "3              Star Wars: The Force Awakens          2015    136.0   \n",
       "633   The Hunger Games: Mockingjay - Part 1          2014    123.0   \n",
       "\n",
       "      popularity       budget       revenue   budget_adj   revenue_adj  \\\n",
       "0      32.985763  150000000.0  1.513529e+09  137999939.0  1.392446e+09   \n",
       "1      28.419936  150000000.0  3.784364e+08  137999939.0  3.481613e+08   \n",
       "629    24.949134  165000000.0  6.217525e+08  151980023.0  5.726906e+08   \n",
       "630    14.311205  170000000.0  7.733124e+08  156585478.0  7.122911e+08   \n",
       "2      13.112507  110000000.0  2.952382e+08  101199955.0  2.716190e+08   \n",
       "631    12.971027  170000000.0  7.147666e+08  156585478.0  6.583651e+08   \n",
       "1329   12.037933   11000000.0  7.753980e+08   39575591.0  2.789712e+09   \n",
       "632    11.422751   20000000.0  7.873990e+07   18421821.0  7.252661e+07   \n",
       "3      11.173104  200000000.0  2.068178e+09  183999919.0  1.902723e+09   \n",
       "633    10.739009  125000000.0  7.521002e+08  115136381.0  6.927528e+08   \n",
       "\n",
       "            profit  profit_adj  \n",
       "0     1.363529e+09  1254445953  \n",
       "1     2.284364e+08   210161353  \n",
       "629   4.567525e+08   420710622  \n",
       "630   6.033124e+08   555705652  \n",
       "2     1.852382e+08   170419070  \n",
       "631   5.447666e+08   501779614  \n",
       "1329  7.643980e+08  2750136651  \n",
       "632   5.873990e+07    54104793  \n",
       "3     1.868178e+09  1718723210  \n",
       "633   6.271002e+08   577616409  "
      ]
     },
     "execution_count": 37,
     "metadata": {},
     "output_type": "execute_result"
    }
   ],
   "source": [
    "# What are the top 10 most popular movies in the dataset?\n",
    "df.loc[df.popularity.sort_values(ascending=False).head(10).index,cols_required]"
   ]
  },
  {
   "cell_type": "markdown",
   "metadata": {},
   "source": [
    "> ***Observations: The movies above can be seen to be the top 10 most popular movies. It can be observed that movies like \"The Hunger Games: Mockingjay- Part 1\", \"John Wick\", \"Captain America: The Winter Soldier\",\"Insurgent\", \"Guardian of the Galaxy\", \"Interstellar\", \"Mad Max: Fury Road\" did not appear in top 10 movies with largest production budget nor top 10 highest grossing movies whether inflation adjustment is considered or not but they are pretty popular among viewers and fans as they emerged in the top 10 most popular movies.***"
   ]
  },
  {
   "cell_type": "markdown",
   "metadata": {
    "collapsed": true
   },
   "source": [
    "### Summary of the observations found in the questions answered\n",
    "\n",
    "> ***1) It can be seen that inflation has a huge impact on the budget and revenue of a movie***\n",
    "\n",
    "> ***2) It can also observed that neither production budget or revenue made from movies have impact on the popularity of the movie amongst fans and viewers***\n",
    "    "
   ]
  },
  {
   "cell_type": "markdown",
   "metadata": {},
   "source": [
    "### GROUP 2 QUESTIONS "
   ]
  },
  {
   "cell_type": "markdown",
   "metadata": {},
   "source": [
    "> ***The following question are to be answered in the series of analysis below:***\n",
    "\n",
    "> 1) In terms of actual value, what release year witnessed the movies released with the highest profit considering the total profit?\n",
    "    \n",
    "> 2) In terms of inflation adjusted value, what release year witnessed the movies released with the highest profit considering the total profit?\n",
    "    \n",
    "> 3) In terms of actual value, what release year witnessed the movies released with the highest production budget considering the total budget?\n",
    "    \n",
    "> 4) In terms of inflation adjusted value, what release year witnessed the movies released with the highest production budget considering the total budget ?\n",
    "    \n",
    "> 5) In terms of actual value, what release year witnessed the movies released with the highest revenue considering the total revenue?\n",
    "\n",
    "> 6) In terms of inflation adjusted value, what release year witnessed the movies released with the highest revenue considering the total revenue?\n",
    "\n",
    "> 7) What released year were the most movie released?\n"
   ]
  },
  {
   "cell_type": "markdown",
   "metadata": {},
   "source": [
    "***To start this analysis, we have to take a 1d analysis of the key parameters to be considered in our analysis. The key paramters include:***\n",
    "        \n",
    "        1. Budget\n",
    "        \n",
    "        2. Revenue\n",
    "        \n",
    "        3. Profit\n",
    "        \n",
    "        4. Inflation adjusted budget\n",
    "        \n",
    "        5. Inflation adjusted revenue\n",
    "        \n",
    "        6. Inflation adjusted revenue\n",
    "        "
   ]
  },
  {
   "cell_type": "code",
   "execution_count": 54,
   "metadata": {},
   "outputs": [],
   "source": [
    "#setting the bins interval\n",
    "bins_pro_ad = np.arange(df.profit_adj.min(),df.profit_adj.max()+5*10**7,5*10**7);\n",
    "bins_pro = np.arange(df.profit.min(),df.profit.max()+5*10**7,5*10**7);"
   ]
  },
  {
   "cell_type": "code",
   "execution_count": 55,
   "metadata": {},
   "outputs": [
    {
     "data": {
      "image/png": "[encoded data removed]",
      "text/plain": [
       "<matplotlib.figure.Figure at 0x7f2f01d0d6d8>"
      ]
     },
     "metadata": {
      "needs_background": "light"
     },
     "output_type": "display_data"
    }
   ],
   "source": [
    "df.query('revenue>0 and budget>0')['profit'].hist(grid=False,bins=bins_pro,edgecolor='black',figsize=[20,10]);"
   ]
  },
  {
   "cell_type": "code",
   "execution_count": 56,
   "metadata": {},
   "outputs": [
    {
     "data": {
      "image/png": "[encoded data removed]",
      "text/plain": [
       "<matplotlib.figure.Figure at 0x7f2f01c01668>"
      ]
     },
     "metadata": {
      "needs_background": "light"
     },
     "output_type": "display_data"
    }
   ],
   "source": [
    "df.query('revenue_adj>0 and budget_adj>0')['profit_adj'].hist(grid=False,bins=bins_pro_ad,edgecolor='black',figsize=[20,10]);"
   ]
  },
  {
   "cell_type": "code",
   "execution_count": null,
   "metadata": {},
   "outputs": [],
   "source": []
  },
  {
   "cell_type": "code",
   "execution_count": 40,
   "metadata": {},
   "outputs": [],
   "source": [
    "# Defining a function to plot solutions to the questions asked \n",
    "\n",
    "# credits to the code goes to the reviewer of my first assignment\n",
    "\n",
    "def myGrpPlot(df,grpVar,yVar,stat='sum',figsize=[30,10],color='blue'):\n",
    "    \n",
    "    # plot function\n",
    "    \n",
    "    df.groupby([grpVar])[yVar].agg(stat).plot.bar(edgecolor='black',figsize=figsize,rot=0,width=0.8,color=color);\n",
    "    \n",
    "    # tidy up labels after plottting\n",
    "    \n",
    "    grpVar=grpVar.replace(\"_\",\" \") #replace _ with space\n",
    "    yVar=yVar.replace(\"_\",\" \") #replace _ with space\n",
    "    \n",
    "    # adding title to the plot\n",
    "    \n",
    "    plt.title(f'{stat} of {yVar} by {grpVar}'.title(), fontsize = 14, weight = \"bold\")\n",
    "    \n",
    "    # adding x-label to the plot \n",
    "    \n",
    "    plt.xlabel(grpVar.title(), fontsize = 10, weight = \"bold\")\n",
    "    \n",
    "    # adding y-label to the plot\n",
    "    \n",
    "    plt.ylabel(f'{stat} {yVar}'.title(), fontsize = 10, weight = \"bold\" )"
   ]
  },
  {
   "cell_type": "code",
   "execution_count": 41,
   "metadata": {},
   "outputs": [
    {
     "data": {
      "image/png": "[encoded data removed]",
      "text/plain": [
       "<matplotlib.figure.Figure at 0x7f694a28d470>"
      ]
     },
     "metadata": {
      "needs_background": "light"
     },
     "output_type": "display_data"
    }
   ],
   "source": [
    "myGrpPlot(df, 'release_year', 'profit')"
   ]
  },
  {
   "cell_type": "markdown",
   "metadata": {},
   "source": [
    "> ***Observation: From the graph above, it can be seen that 2015 witnessed movies with more profits when considering inflation adjustment is not considered***"
   ]
  },
  {
   "cell_type": "code",
   "execution_count": 42,
   "metadata": {},
   "outputs": [
    {
     "data": {
      "image/png": "[encoded data removed]",
      "text/plain": [
       "<matplotlib.figure.Figure at 0x7f69498eae48>"
      ]
     },
     "metadata": {
      "needs_background": "light"
     },
     "output_type": "display_data"
    }
   ],
   "source": [
    "myGrpPlot(df, 'release_year', 'profit_adj', color='brown')"
   ]
  },
  {
   "cell_type": "markdown",
   "metadata": {},
   "source": [
    "> ***Observations: From the graph, we can visually see the impact of inflation adjusted on the profit as lot of figure went up. However 2015 still witnessed the most profit***"
   ]
  },
  {
   "cell_type": "code",
   "execution_count": 43,
   "metadata": {},
   "outputs": [
    {
     "data": {
      "image/png": "[encoded data removed]",
      "text/plain": [
       "<matplotlib.figure.Figure at 0x7f694b476a58>"
      ]
     },
     "metadata": {
      "needs_background": "light"
     },
     "output_type": "display_data"
    }
   ],
   "source": [
    "myGrpPlot(df, 'release_year', 'budget', color='green')"
   ]
  },
  {
   "cell_type": "markdown",
   "metadata": {},
   "source": [
    "> ***Observation: From the graph, 2012 witness movies with highest production budget***"
   ]
  },
  {
   "cell_type": "code",
   "execution_count": 44,
   "metadata": {},
   "outputs": [
    {
     "data": {
      "image/png": "[encoded data removed]",
      "text/plain": [
       "<matplotlib.figure.Figure at 0x7f694b106cc0>"
      ]
     },
     "metadata": {
      "needs_background": "light"
     },
     "output_type": "display_data"
    }
   ],
   "source": [
    "myGrpPlot(df, 'release_year', 'budget_adj', color='pink')"
   ]
  },
  {
   "cell_type": "markdown",
   "metadata": {},
   "source": [
    "> ***Observation: From the graph, we can notice a contrast to the previous graph on budget. We can see that same of amount was expended on production budget in 2013 and 2014***"
   ]
  },
  {
   "cell_type": "code",
   "execution_count": 45,
   "metadata": {},
   "outputs": [
    {
     "data": {
      "image/png": "[encoded data removed]",
      "text/plain": [
       "<matplotlib.figure.Figure at 0x7f694b512438>"
      ]
     },
     "metadata": {
      "needs_background": "light"
     },
     "output_type": "display_data"
    }
   ],
   "source": [
    "myGrpPlot(df, 'release_year', 'revenue', color ='red')"
   ]
  },
  {
   "cell_type": "markdown",
   "metadata": {},
   "source": [
    "> ***Observation: From this graph, it can be observed that 2014 and 2015 has the highest revenue***"
   ]
  },
  {
   "cell_type": "code",
   "execution_count": 46,
   "metadata": {},
   "outputs": [
    {
     "data": {
      "image/png": "[encoded data removed]",
      "text/plain": [
       "<matplotlib.figure.Figure at 0x7f694642d198>"
      ]
     },
     "metadata": {
      "needs_background": "light"
     },
     "output_type": "display_data"
    }
   ],
   "source": [
    "myGrpPlot(df, 'release_year', 'revenue_adj', color='violet')"
   ]
  },
  {
   "cell_type": "markdown",
   "metadata": {},
   "source": [
    "> ***Observation: From the graph, you can notice a sharp contrast to the previous graph with the years witnessing an upward movement in their revenue and unlike the previous graph where 2014 and 2015 had the highest revenue, only 2014 had the highest revenue here***"
   ]
  },
  {
   "cell_type": "code",
   "execution_count": 75,
   "metadata": {},
   "outputs": [],
   "source": [
    "# Defining a function to plot solutions to the questions asked \n",
    "\n",
    "# credits to the code goes to the reviewer of my first assignment\n",
    "\n",
    "def myHBarPlot(df,grpVar,yVar,stat='mean',figsize=[15,15],color='blue'):\n",
    "    \n",
    "    # plot function\n",
    "    \n",
    "    df.groupby([grpVar])[yVar].agg(stat).plot.barh(edgecolor='black',figsize=figsize,rot=0,width=0.8,color=color);\n",
    "    \n",
    "    # tidy up labels after plottting\n",
    "    \n",
    "    grpVar=grpVar.replace(\"_\",\" \") #replace _ with space\n",
    "    yVar=yVar.replace(\"_\",\" \") #replace _ with space\n",
    "    \n",
    "    # adding title to the plot\n",
    "    \n",
    "    plt.title(f'{stat} of {yVar} by {grpVar}'.title(), fontsize = 14, weight = \"bold\")\n",
    "    \n",
    "    # adding y-label to the plot \n",
    "    \n",
    "    plt.ylabel(grpVar.title(), fontsize = 10, weight = \"bold\")\n",
    "    \n",
    "    # adding x-label to the plot\n",
    "    \n",
    "    plt.xlabel(f'{stat} {yVar}'.title(), fontsize = 10, weight = \"bold\" )"
   ]
  },
  {
   "cell_type": "code",
   "execution_count": 76,
   "metadata": {},
   "outputs": [
    {
     "data": {
      "image/png": "[encoded data removed]",
      "text/plain": [
       "<matplotlib.figure.Figure at 0x7f694b0f7048>"
      ]
     },
     "metadata": {
      "needs_background": "light"
     },
     "output_type": "display_data"
    }
   ],
   "source": [
    "myHBarPlot(df, 'release_year', 'profit')"
   ]
  },
  {
   "cell_type": "markdown",
   "metadata": {},
   "source": [
    "***From this graph, 1977 has the highest average profit per movie if inflation adjusted is not considered. This is in sharp contrast to the total sum of profits made on movies released per year where 2015 had the highest profit***"
   ]
  },
  {
   "cell_type": "code",
   "execution_count": 77,
   "metadata": {},
   "outputs": [
    {
     "data": {
      "image/png": "[encoded data removed]",
      "text/plain": [
       "<matplotlib.figure.Figure at 0x7f694b5c4dd8>"
      ]
     },
     "metadata": {
      "needs_background": "light"
     },
     "output_type": "display_data"
    }
   ],
   "source": [
    "myHBarPlot(df, 'release_year', 'profit_adj', color='brown')"
   ]
  },
  {
   "cell_type": "markdown",
   "metadata": {},
   "source": [
    "***From this graph, an observation that can be noticed is that 1977 return as the year with the highest average profit per movie when inflation adjustment is considered. This is also a sharp contrast to the the total sum plot that showed 2015 as the year with most profit for movies released***"
   ]
  },
  {
   "cell_type": "code",
   "execution_count": 78,
   "metadata": {},
   "outputs": [
    {
     "data": {
      "image/png": "[encoded data removed]",
      "text/plain": [
       "<matplotlib.figure.Figure at 0x7f694b425d68>"
      ]
     },
     "metadata": {
      "needs_background": "light"
     },
     "output_type": "display_data"
    }
   ],
   "source": [
    "myHBarPlot(df, 'release_year', 'budget', color='green')"
   ]
  },
  {
   "cell_type": "markdown",
   "metadata": {},
   "source": [
    "***From this plot, it can be observed that the highest average production budget per movie was spent in 2000 when inflation adjustment is not considered. This is a sharp contrast to the total production budget for all movies released per year that saw 2012 with the highest total production budget***"
   ]
  },
  {
   "cell_type": "code",
   "execution_count": 79,
   "metadata": {},
   "outputs": [
    {
     "data": {
      "image/png": "[encoded data removed]",
      "text/plain": [
       "<matplotlib.figure.Figure at 0x7f69462c9dd8>"
      ]
     },
     "metadata": {
      "needs_background": "light"
     },
     "output_type": "display_data"
    }
   ],
   "source": [
    "myHBarPlot(df, 'release_year', 'budget_adj', color='pink')"
   ]
  },
  {
   "cell_type": "markdown",
   "metadata": {},
   "source": [
    "***From this plot, we can see that 1997 has the highest average production budget per movies released unlike in the plot of total production budget which saw 2013 and 2014 having the joint highest production budget for all movies released.***"
   ]
  },
  {
   "cell_type": "code",
   "execution_count": 80,
   "metadata": {},
   "outputs": [
    {
     "data": {
      "image/png": "[encoded data removed]",
      "text/plain": [
       "<matplotlib.figure.Figure at 0x7f694637f320>"
      ]
     },
     "metadata": {
      "needs_background": "light"
     },
     "output_type": "display_data"
    }
   ],
   "source": [
    "myHBarPlot(df, 'release_year', 'revenue', color='red')"
   ]
  },
  {
   "cell_type": "markdown",
   "metadata": {},
   "source": [
    "***From the plot, it can be seen that 2001 saw the highest average revenue per movie released in each year. This is in contrast to the total revenue for movies released in each year which saw 2014 and 2015 with the highest revenue***"
   ]
  },
  {
   "cell_type": "code",
   "execution_count": 81,
   "metadata": {},
   "outputs": [
    {
     "data": {
      "image/png": "[encoded data removed]",
      "text/plain": [
       "<matplotlib.figure.Figure at 0x7f6949952400>"
      ]
     },
     "metadata": {
      "needs_background": "light"
     },
     "output_type": "display_data"
    }
   ],
   "source": [
    "myHBarPlot(df, 'release_year', 'revenue_adj', color='violet')"
   ]
  },
  {
   "cell_type": "markdown",
   "metadata": {},
   "source": [
    "***From this plot, it can be observed that 1977 has the highest average revenue per movie released each year if inflation adjustment is considered. This is also in sharp contrast with total revenue for movies released in each year when inflation adjustment is considered which saw 2014 with the highest figure***"
   ]
  },
  {
   "cell_type": "code",
   "execution_count": 87,
   "metadata": {
    "scrolled": false
   },
   "outputs": [
    {
     "data": {
      "image/png": "[encoded data removed]",
      "text/plain": [
       "<matplotlib.figure.Figure at 0x7f69498a44e0>"
      ]
     },
     "metadata": {
      "needs_background": "light"
     },
     "output_type": "display_data"
    }
   ],
   "source": [
    "df.release_year.value_counts().plot(kind='bar', edgecolor='black', alpha=1.0, color='orange', label='number of movies', width=0.8,sort_columns=True, title='number of movies per year', figsize=(20,10))\n",
    "plt.legend();"
   ]
  },
  {
   "cell_type": "markdown",
   "metadata": {},
   "source": [
    "> ***Observation: From the graph, it can be seen tha 2014 has the highest number of movies released while 1961 and 1969 has the joint lowest number of movies***"
   ]
  },
  {
   "cell_type": "markdown",
   "metadata": {},
   "source": [
    "<a id='conclusions'></a>\n",
    "## Conclusions\n",
    "\n",
    "> ***From the answers to the research questions, three major observations were:***\n",
    "\n",
    "> ***1) Inflation has huge impact on the budget,revenue and profit of each movie***\n",
    "\n",
    "> ***2) There is little or no correlation between the revenue made from a movie and its popularity among viewers. This is surprising as it was expected that the higher the revenue a movie makes, the more popular the movie should be among the viewers.***\n",
    "\n",
    "> ***3) The number of movies released in a year has little impact on the gross revenue earned from the movies and also the profitablity***\n",
    "\n",
    "\n",
    "> ***The limitation encountered is that the most movies have more than one genre in the genre columns. This made it difficult to measure the following:***\n",
    "\n",
    "> ***1) it was difficult to measure how popular each genre is, among viewers***\n",
    "\n",
    "> ***2) it was difficult to measure which genre is most profitable***\n",
    "\n",
    "> ***3) it was difficult to measure which genre incurred more expenses in production***\n",
    "\n",
    "> ***4) it was difficult to measure which genre earned more revenue***\n",
    "\n",
    "\n",
    "> ***Further research work should be done on the following:***\n",
    "\n",
    "> ***1) Which production company spent the most on producing movies?***\n",
    "\n",
    "> ***2) Which director's movies are more popular among the viewers?***\n",
    "\n",
    "> ***3) which actor's movies are more popular among the viewers?***\n"
   ]
  },
  {
   "cell_type": "code",
   "execution_count": 70,
   "metadata": {},
   "outputs": [
    {
     "data": {
      "text/plain": [
       "0"
      ]
     },
     "execution_count": 70,
     "metadata": {},
     "output_type": "execute_result"
    }
   ],
   "source": [
    "from subprocess import call\n",
    "call(['python', '-m', 'nbconvert', 'Investigate_a_Dataset.ipynb'])"
   ]
  },
  {
   "cell_type": "code",
   "execution_count": null,
   "metadata": {},
   "outputs": [],
   "source": []
  }
 ],
 "metadata": {
  "kernelspec": {
   "display_name": "Python 3",
   "language": "python",
   "name": "python3"
  },
  "language_info": {
   "codemirror_mode": {
    "name": "ipython",
    "version": 3
   },
   "file_extension": ".py",
   "mimetype": "text/x-python",
   "name": "python",
   "nbconvert_exporter": "python",
   "pygments_lexer": "ipython3",
   "version": "3.6.3"
  }
 },
 "nbformat": 4,
 "nbformat_minor": 2
}
